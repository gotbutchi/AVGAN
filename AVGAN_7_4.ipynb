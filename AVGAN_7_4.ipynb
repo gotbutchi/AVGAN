{
  "nbformat": 4,
  "nbformat_minor": 0,
  "metadata": {
    "colab": {
      "name": "AVGAN_7.4.ipynb",
      "version": "0.3.2",
      "provenance": [],
      "collapsed_sections": [],
      "include_colab_link": true
    },
    "kernelspec": {
      "name": "python3",
      "display_name": "Python 3"
    },
    "accelerator": "GPU"
  },
  "cells": [
    {
      "cell_type": "markdown",
      "metadata": {
        "id": "view-in-github",
        "colab_type": "text"
      },
      "source": [
        "<a href=\"https://colab.research.google.com/github/markus-weiss/AVGAN/blob/master/AVGAN_7_4.ipynb\" target=\"_parent\"><img src=\"https://colab.research.google.com/assets/colab-badge.svg\" alt=\"Open In Colab\"/></a>"
      ]
    },
    {
      "cell_type": "markdown",
      "metadata": {
        "id": "8mYgLXpRaEIi",
        "colab_type": "text"
      },
      "source": [
        "#PREINSTALLING"
      ]
    },
    {
      "cell_type": "code",
      "metadata": {
        "id": "lB2usNzLZQQn",
        "colab_type": "code",
        "outputId": "7304a65a-8c09-4a76-ee67-dfc0a54823c4",
        "colab": {
          "base_uri": "https://localhost:8080/",
          "height": 507
        }
      },
      "source": [
        "!pip install tensorflow-gpu==2.0.0-beta0"
      ],
      "execution_count": 0,
      "outputs": [
        {
          "output_type": "stream",
          "text": [
            "Collecting tensorflow-gpu==2.0.0-beta0\n",
            "\u001b[?25l  Downloading https://files.pythonhosted.org/packages/e8/7e/87c4c94686cda7066f52cbca4c344248516490acdd6b258ec6b8a805d956/tensorflow_gpu-2.0.0b0-cp36-cp36m-manylinux1_x86_64.whl (348.8MB)\n",
            "\u001b[K     |████████████████████████████████| 348.9MB 60kB/s \n",
            "\u001b[?25hRequirement already satisfied: protobuf>=3.6.1 in /usr/local/lib/python3.6/dist-packages (from tensorflow-gpu==2.0.0-beta0) (3.7.1)\n",
            "Requirement already satisfied: termcolor>=1.1.0 in /usr/local/lib/python3.6/dist-packages (from tensorflow-gpu==2.0.0-beta0) (1.1.0)\n",
            "Requirement already satisfied: wheel>=0.26 in /usr/local/lib/python3.6/dist-packages (from tensorflow-gpu==2.0.0-beta0) (0.33.4)\n",
            "Requirement already satisfied: wrapt>=1.11.1 in /usr/local/lib/python3.6/dist-packages (from tensorflow-gpu==2.0.0-beta0) (1.11.2)\n",
            "Requirement already satisfied: keras-preprocessing>=1.0.5 in /usr/local/lib/python3.6/dist-packages (from tensorflow-gpu==2.0.0-beta0) (1.1.0)\n",
            "Requirement already satisfied: absl-py>=0.7.0 in /usr/local/lib/python3.6/dist-packages (from tensorflow-gpu==2.0.0-beta0) (0.7.1)\n",
            "Requirement already satisfied: gast>=0.2.0 in /usr/local/lib/python3.6/dist-packages (from tensorflow-gpu==2.0.0-beta0) (0.2.2)\n",
            "Requirement already satisfied: six>=1.10.0 in /usr/local/lib/python3.6/dist-packages (from tensorflow-gpu==2.0.0-beta0) (1.12.0)\n",
            "Collecting tb-nightly<1.14.0a20190604,>=1.14.0a20190603 (from tensorflow-gpu==2.0.0-beta0)\n",
            "\u001b[?25l  Downloading https://files.pythonhosted.org/packages/a4/96/571b875cd81dda9d5dfa1422a4f9d749e67c0a8d4f4f0b33a4e5f5f35e27/tb_nightly-1.14.0a20190603-py3-none-any.whl (3.1MB)\n",
            "\u001b[K     |████████████████████████████████| 3.1MB 19.7MB/s \n",
            "\u001b[?25hRequirement already satisfied: grpcio>=1.8.6 in /usr/local/lib/python3.6/dist-packages (from tensorflow-gpu==2.0.0-beta0) (1.15.0)\n",
            "Collecting tf-estimator-nightly<1.14.0.dev2019060502,>=1.14.0.dev2019060501 (from tensorflow-gpu==2.0.0-beta0)\n",
            "\u001b[?25l  Downloading https://files.pythonhosted.org/packages/32/dd/99c47dd007dcf10d63fd895611b063732646f23059c618a373e85019eb0e/tf_estimator_nightly-1.14.0.dev2019060501-py2.py3-none-any.whl (496kB)\n",
            "\u001b[K     |████████████████████████████████| 501kB 32.5MB/s \n",
            "\u001b[?25hRequirement already satisfied: astor>=0.6.0 in /usr/local/lib/python3.6/dist-packages (from tensorflow-gpu==2.0.0-beta0) (0.8.0)\n",
            "Requirement already satisfied: numpy<2.0,>=1.14.5 in /usr/local/lib/python3.6/dist-packages (from tensorflow-gpu==2.0.0-beta0) (1.16.4)\n",
            "Requirement already satisfied: google-pasta>=0.1.6 in /usr/local/lib/python3.6/dist-packages (from tensorflow-gpu==2.0.0-beta0) (0.1.7)\n",
            "Requirement already satisfied: keras-applications>=1.0.6 in /usr/local/lib/python3.6/dist-packages (from tensorflow-gpu==2.0.0-beta0) (1.0.8)\n",
            "Requirement already satisfied: setuptools in /usr/local/lib/python3.6/dist-packages (from protobuf>=3.6.1->tensorflow-gpu==2.0.0-beta0) (41.0.1)\n",
            "Requirement already satisfied: markdown>=2.6.8 in /usr/local/lib/python3.6/dist-packages (from tb-nightly<1.14.0a20190604,>=1.14.0a20190603->tensorflow-gpu==2.0.0-beta0) (3.1.1)\n",
            "Requirement already satisfied: werkzeug>=0.11.15 in /usr/local/lib/python3.6/dist-packages (from tb-nightly<1.14.0a20190604,>=1.14.0a20190603->tensorflow-gpu==2.0.0-beta0) (0.15.5)\n",
            "Requirement already satisfied: h5py in /usr/local/lib/python3.6/dist-packages (from keras-applications>=1.0.6->tensorflow-gpu==2.0.0-beta0) (2.8.0)\n",
            "Installing collected packages: tb-nightly, tf-estimator-nightly, tensorflow-gpu\n",
            "Successfully installed tb-nightly-1.14.0a20190603 tensorflow-gpu-2.0.0b0 tf-estimator-nightly-1.14.0.dev2019060501\n"
          ],
          "name": "stdout"
        }
      ]
    },
    {
      "cell_type": "code",
      "metadata": {
        "id": "Od2QlhGl0lQe",
        "colab_type": "code",
        "outputId": "b2853e75-6429-40ae-f429-3f543f850e94",
        "colab": {
          "base_uri": "https://localhost:8080/",
          "height": 84
        }
      },
      "source": [
        "!pip install imageio"
      ],
      "execution_count": 0,
      "outputs": [
        {
          "output_type": "stream",
          "text": [
            "Requirement already satisfied: imageio in /usr/local/lib/python3.6/dist-packages (2.4.1)\n",
            "Requirement already satisfied: pillow in /usr/local/lib/python3.6/dist-packages (from imageio) (4.3.0)\n",
            "Requirement already satisfied: numpy in /usr/local/lib/python3.6/dist-packages (from imageio) (1.16.4)\n",
            "Requirement already satisfied: olefile in /usr/local/lib/python3.6/dist-packages (from pillow->imageio) (0.46)\n"
          ],
          "name": "stdout"
        }
      ]
    },
    {
      "cell_type": "code",
      "metadata": {
        "id": "px-WP_3EZ2aK",
        "colab_type": "code",
        "outputId": "d1a4a121-0d99-4060-f213-52d7402ebdc7",
        "colab": {
          "base_uri": "https://localhost:8080/",
          "height": 121
        }
      },
      "source": [
        "from google.colab import drive\n",
        "\n",
        "drive.mount('/content/drive')"
      ],
      "execution_count": 0,
      "outputs": [
        {
          "output_type": "stream",
          "text": [
            "Go to this URL in a browser: https://accounts.google.com/o/oauth2/auth?client_id=947318989803-6bn6qk8qdgf4n4g3pfee6491hc0brc4i.apps.googleusercontent.com&redirect_uri=urn%3Aietf%3Awg%3Aoauth%3A2.0%3Aoob&scope=email%20https%3A%2F%2Fwww.googleapis.com%2Fauth%2Fdocs.test%20https%3A%2F%2Fwww.googleapis.com%2Fauth%2Fdrive%20https%3A%2F%2Fwww.googleapis.com%2Fauth%2Fdrive.photos.readonly%20https%3A%2F%2Fwww.googleapis.com%2Fauth%2Fpeopleapi.readonly&response_type=code\n",
            "\n",
            "Enter your authorization code:\n",
            "··········\n",
            "Mounted at /content/drive\n"
          ],
          "name": "stdout"
        }
      ]
    },
    {
      "cell_type": "code",
      "metadata": {
        "id": "3h1IHgwfZ4Ya",
        "colab_type": "code",
        "outputId": "c694be5a-8f74-4a1c-e90a-afa42aeff13c",
        "colab": {
          "base_uri": "https://localhost:8080/",
          "height": 34
        }
      },
      "source": [
        "# Change Directory to your Script\n",
        "cd /content/drive/My Drive/Colab Notebooks/AVGAN/"
      ],
      "execution_count": 0,
      "outputs": [
        {
          "output_type": "stream",
          "text": [
            "/content/drive/My Drive/Colab Notebooks/AVGAN\n"
          ],
          "name": "stdout"
        }
      ]
    },
    {
      "cell_type": "code",
      "metadata": {
        "id": "JGU4R003aCgt",
        "colab_type": "code",
        "outputId": "2410ad59-1a7e-4765-84a6-b99a06895866",
        "colab": {
          "base_uri": "https://localhost:8080/",
          "height": 84
        }
      },
      "source": [
        "!ls\n",
        "\n"
      ],
      "execution_count": 0,
      "outputs": [
        {
          "output_type": "stream",
          "text": [
            "audio_input\t       _AVGAN_Versions\t\t    image_input_3\n",
            "audio_output\t       complete_output_at_0001.png  image_output\n",
            "_AVGAN_1-3TrainResult  _GIF_OUTPUT\t\t    training_checkpoints\n",
            "AVGAN_7.2.ipynb        image_input\n"
          ],
          "name": "stdout"
        }
      ]
    },
    {
      "cell_type": "markdown",
      "metadata": {
        "id": "bgYmjannUxPw",
        "colab_type": "text"
      },
      "source": [
        "# IMPORTS"
      ]
    },
    {
      "cell_type": "code",
      "metadata": {
        "id": "PtkpTMvh1sC0",
        "colab_type": "code",
        "colab": {}
      },
      "source": [
        "import tensorflow as tf\n",
        "tf.__version__\n",
        "\n",
        "import glob\n",
        "import imageio\n",
        "import matplotlib.pyplot as plt\n",
        "import numpy as np\n",
        "import os\n",
        "import PIL\n",
        "from tensorflow.keras import layers\n",
        "import time\n",
        "import matplotlib.image as mpimg\n",
        "from IPython import display"
      ],
      "execution_count": 0,
      "outputs": []
    },
    {
      "cell_type": "markdown",
      "metadata": {
        "id": "nbWSVGU2suWJ",
        "colab_type": "text"
      },
      "source": [
        "#IMAGE READ IN and define DISCRIMINATOR"
      ]
    },
    {
      "cell_type": "markdown",
      "metadata": {
        "id": "ZUyef-wtU04q",
        "colab_type": "text"
      },
      "source": [
        "## DataReadIn Image"
      ]
    },
    {
      "cell_type": "code",
      "metadata": {
        "id": "W_zdsrnwp4L3",
        "colab_type": "code",
        "outputId": "403f8c1b-d537-4c35-8f4b-eee8e41e7eb7",
        "colab": {
          "base_uri": "https://localhost:8080/",
          "height": 70
        }
      },
      "source": [
        "def GetListOfFiles(dirName):\n",
        "  # create a list of file and sub directories \n",
        "  # names in the given directory \n",
        "  listOfFile = os.listdir(dirName)\n",
        "  allFiles = list()\n",
        "  # Iterate over all the entries\n",
        "  for entry in listOfFile:\n",
        "      # Create full path\n",
        "      fullPath = os.path.join(dirName, entry)\n",
        "      # If entry is a directory then get the list of files in this directory \n",
        "      if os.path.isdir(fullPath):\n",
        "          allFiles = allFiles + getListOfFiles(fullPath)\n",
        "      else:\n",
        "          allFiles.append(fullPath)\n",
        "\n",
        "  return allFiles\n",
        "\n",
        "def ImageReadIn(image_list):\n",
        "  image_array = [len(image_list),600,800,3]\n",
        "  for item in image_list:\n",
        "    import cv2 \n",
        "    image = cv2.imread(item)\n",
        "    reshaped_image = image\n",
        "    image_array[0] = image\n",
        "\n",
        "  return image_array\n",
        "\n",
        "def ConvertToTensor(image_list, image_count):\n",
        "  import numpy as np\n",
        "  ndarray = np.ones([image_count,600,800,3])\n",
        "\n",
        "  ndarray[0,:,:,:] = image_list[0]\n",
        "\n",
        "  n=0\n",
        "  for item in image_list:\n",
        "    ndarray[n,:,:,:] = image_list[n]\n",
        "    n=n+1\n",
        "\n",
        "  # TO CHECK THAT THE DATA IS RIGHT\n",
        "  #print(ndarray[:,0,0,0])\n",
        "\n",
        "  # CONVERT A NUMPY ARRAY TO A TENSOR\n",
        "  img_tensor = tf.add(ndarray, 1)\n",
        "  tensor_reshape = tf.image.resize(img_tensor, [224, 224])\n",
        "\n",
        "  return tf.convert_to_tensor(tensor_reshape, np.float32)\n",
        "\n",
        "\n",
        "  \n",
        "  \n",
        "  \n",
        "image_data_root = \"image_input_3/\"\n",
        "image_list = GetListOfFiles(image_data_root)\n",
        "\n",
        "print(image_list)\n",
        "\n",
        "image_data_array = ImageReadIn(image_list)\n",
        "\n",
        "image_count = len(image_list)\n",
        "#print(image_count)\n",
        "image_dataset = ConvertToTensor(image_data_array,image_count)\n",
        "\n",
        "print(image_dataset.shape)\n",
        "\n",
        "\n"
      ],
      "execution_count": 0,
      "outputs": [
        {
          "output_type": "stream",
          "text": [
            "['image_input_3/2019-01-18T08_23_23.724Z.jpg', 'image_input_3/2019-01-18T08_23_23.724Z (1).jpg', 'image_input_3/2019-01-18T08_28_04.262Z.jpg', 'image_input_3/2019-01-18T08_28_04.262Z (2).jpg']\n",
            "(4, 224, 224, 3)\n"
          ],
          "name": "stdout"
        }
      ]
    },
    {
      "cell_type": "markdown",
      "metadata": {
        "id": "W3UMRqUVsjbq",
        "colab_type": "text"
      },
      "source": [
        "##Define IMAGE convolution"
      ]
    },
    {
      "cell_type": "code",
      "metadata": {
        "id": "DAeH163Ma8Uj",
        "colab_type": "code",
        "outputId": "b392f959-6a7b-4fbf-a489-d5eff15dd4ff",
        "colab": {
          "base_uri": "https://localhost:8080/",
          "height": 1000
        }
      },
      "source": [
        "def discriminator_Image():\n",
        "  model = tf.keras.Sequential()\n",
        "  model.add(layers.Conv2D(32, (3,3), strides = (1,1), padding = 'same', input_shape= [224,224,3]))\n",
        "  model.add(layers.LeakyReLU())\n",
        "\n",
        "\n",
        "  model.add(layers.MaxPooling2D(2, 2))\n",
        "  model.add(layers.Conv2D(64, (3,3), strides = (1,1), padding = 'same'))\n",
        "  model.add(layers.LeakyReLU())\n",
        "  \n",
        "  model.add(layers.MaxPooling2D(2, 2))\n",
        "  model.add(layers.Conv2D(128, (3,3), strides = (1,1), padding = 'same'))\n",
        "  model.add(layers.LeakyReLU())\n",
        "  model.add(layers.MaxPooling2D(2, 2))\n",
        "  for layer in model.layers:\n",
        "    aA=layer.output_shape\n",
        "    bA=layer.output\n",
        "    #print(aA)\n",
        "    #print(bA)\n",
        "  \n",
        "  return model\n",
        "\n",
        "\n",
        "\n",
        "discriminator_image = discriminator_Image()\n",
        "discriminator_image(image_dataset)\n"
      ],
      "execution_count": 0,
      "outputs": [
        {
          "output_type": "execute_result",
          "data": {
            "text/plain": [
              "<tf.Tensor: id=131, shape=(4, 28, 28, 128), dtype=float32, numpy=\n",
              "array([[[[ 3.56708641e+01,  2.62438774e+01,  3.79651546e+00, ...,\n",
              "           2.97112160e+01, -1.41321659e+00, -2.42038178e+00],\n",
              "         [ 3.24871140e+01,  2.56907368e+01,  1.23062944e+01, ...,\n",
              "           2.15450249e+01, -9.23505485e-01, -3.54892540e+00],\n",
              "         [ 3.23548698e+01,  2.55362778e+01,  1.23238764e+01, ...,\n",
              "           2.15330219e+01, -9.33187187e-01, -3.50046349e+00],\n",
              "         ...,\n",
              "         [ 2.43988991e+01,  2.51026878e+01,  3.84727597e+00, ...,\n",
              "           1.81393681e+01, -9.62259471e-01, -3.00609350e+00],\n",
              "         [ 2.56194496e+01,  2.49520206e+01,  4.41356277e+00, ...,\n",
              "           1.85026360e+01, -9.87610340e-01, -3.06540418e+00],\n",
              "         [ 2.82399197e+01,  2.33689003e+01,  5.55563450e+00, ...,\n",
              "           3.12667274e+01,  1.78840542e+00, -9.62695360e-01]],\n",
              "\n",
              "        [[ 2.83459816e+01,  2.52445278e+01,  1.81143522e-01, ...,\n",
              "           2.77939415e+01, -3.52043748e+00, -9.05649281e+00],\n",
              "         [ 2.71970425e+01,  2.54944782e+01,  5.78608704e+00, ...,\n",
              "           1.96500187e+01, -7.83729494e-01, -1.11961632e+01],\n",
              "         [ 2.70283508e+01,  2.57088566e+01,  5.81692696e+00, ...,\n",
              "           1.97343502e+01, -6.76143050e-01, -1.10501347e+01],\n",
              "         ...,\n",
              "         [ 2.41970863e+01,  2.55401020e+01,  1.80480170e+00, ...,\n",
              "           1.71873245e+01, -1.65186977e+00, -8.96128464e+00],\n",
              "         [ 2.31102753e+01,  2.34130363e+01,  3.72328967e-01, ...,\n",
              "           1.59764891e+01, -1.78219509e+00, -9.04457760e+00],\n",
              "         [ 2.16210041e+01,  1.75650406e+01,  2.25535107e+00, ...,\n",
              "           2.85745125e+01,  1.22896290e+00, -5.75187492e+00]],\n",
              "\n",
              "        [[ 2.66566906e+01,  2.34402332e+01, -1.32939935e-01, ...,\n",
              "           2.58775177e+01, -3.50079989e+00, -8.57104874e+00],\n",
              "         [ 2.52287197e+01,  2.38954678e+01,  4.87985134e+00, ...,\n",
              "           1.84988747e+01, -6.52326345e-01, -1.07812958e+01],\n",
              "         [ 2.51557331e+01,  2.33516407e+01,  4.96738529e+00, ...,\n",
              "           1.86973515e+01, -6.43580079e-01, -1.09417934e+01],\n",
              "         ...,\n",
              "         [ 1.68819046e+01,  2.03323593e+01,  2.95594168e+00, ...,\n",
              "           1.25342474e+01, -1.99420607e+00, -7.05971622e+00],\n",
              "         [ 1.51848202e+01,  1.93999691e+01,  3.19849682e+00, ...,\n",
              "           1.22406540e+01, -1.99921715e+00, -6.93964100e+00],\n",
              "         [ 1.66298103e+01,  1.71799030e+01,  4.85447264e+00, ...,\n",
              "           2.08147163e+01, -9.65558067e-02, -4.31080341e+00]],\n",
              "\n",
              "        ...,\n",
              "\n",
              "        [[ 3.36557922e+01,  2.95104618e+01,  6.32472372e+00, ...,\n",
              "           3.36270332e+01, -4.26547480e+00, -1.07831717e+01],\n",
              "         [ 2.72482052e+01,  2.44155998e+01,  9.27167320e+00, ...,\n",
              "           2.27317352e+01, -3.85207713e-01, -8.04497814e+00],\n",
              "         [ 1.86287098e+01,  1.90409107e+01,  3.05796313e+00, ...,\n",
              "           1.77275085e+01,  8.88858140e-01, -7.22807503e+00],\n",
              "         ...,\n",
              "         [ 1.34505415e+01,  1.99444427e+01,  9.80855346e-01, ...,\n",
              "           7.79422903e+00, -2.29306817e+00, -5.93315458e+00],\n",
              "         [ 1.81234417e+01,  2.29050674e+01,  7.48572707e-01, ...,\n",
              "           1.10659332e+01, -2.21285772e+00, -8.44368553e+00],\n",
              "         [ 1.61567192e+01,  2.13548641e+01,  3.53035665e+00, ...,\n",
              "           2.45896530e+01, -2.48395458e-01, -4.82444382e+00]],\n",
              "\n",
              "        [[ 3.15122604e+01,  2.66643772e+01,  3.05922699e+00, ...,\n",
              "           4.17869034e+01, -2.74999475e+00, -8.84642029e+00],\n",
              "         [ 2.71370258e+01,  2.35772362e+01,  2.36956787e+00, ...,\n",
              "           3.30365372e+01,  6.13716364e+00, -8.50349998e+00],\n",
              "         [ 2.32283974e+01,  2.13423996e+01,  2.71850729e+00, ...,\n",
              "           1.85905075e+01, -2.62073755e-01, -7.99702024e+00],\n",
              "         ...,\n",
              "         [ 1.39896898e+01,  2.04178448e+01,  2.12285757e-01, ...,\n",
              "           6.72253370e+00, -2.99310827e+00, -6.38806772e+00],\n",
              "         [ 1.75817871e+01,  2.43265705e+01,  3.59787941e-02, ...,\n",
              "           1.53272905e+01, -2.44342947e+00, -7.90454626e+00],\n",
              "         [ 1.75513344e+01,  2.15454655e+01, -2.35521793e-01, ...,\n",
              "           2.77059898e+01, -5.31860173e-01, -5.14924765e+00]],\n",
              "\n",
              "        [[ 1.50890150e+01,  1.20819855e+01, -8.86468664e-02, ...,\n",
              "           2.83780422e+01, -3.63297176e+00, -3.93458247e+00],\n",
              "         [ 1.84889641e+01,  1.21101952e+01,  2.26957321e+00, ...,\n",
              "           2.37913246e+01,  2.21861649e+00, -5.72443056e+00],\n",
              "         [ 1.94373550e+01,  1.41767845e+01,  4.43299627e+00, ...,\n",
              "           1.70569935e+01, -4.27866906e-01, -5.22163439e+00],\n",
              "         ...,\n",
              "         [ 1.42323990e+01,  1.93677082e+01,  1.11198902e+00, ...,\n",
              "           2.39652562e+00, -1.82802808e+00, -3.92154193e+00],\n",
              "         [ 2.04739342e+01,  2.27040730e+01, -6.94953322e-01, ...,\n",
              "           1.40925035e+01, -1.23823488e+00, -5.57826042e+00],\n",
              "         [ 1.83449001e+01,  1.92164955e+01, -4.44984794e-01, ...,\n",
              "           2.91560116e+01,  3.63202763e+00, -4.74915743e+00]]],\n",
              "\n",
              "\n",
              "       [[[ 1.25310349e+02,  9.07264862e+01,  1.36187954e+01, ...,\n",
              "           1.04486824e+02, -4.59337187e+00, -8.33616829e+00],\n",
              "         [ 1.12301514e+02,  8.77238235e+01,  4.44920769e+01, ...,\n",
              "           7.55528412e+01, -2.51338935e+00, -1.29408855e+01],\n",
              "         [ 1.12301514e+02,  8.77238235e+01,  4.44920769e+01, ...,\n",
              "           7.55528412e+01, -2.51338935e+00, -1.29408855e+01],\n",
              "         ...,\n",
              "         [ 1.12301514e+02,  8.77238235e+01,  4.44920769e+01, ...,\n",
              "           7.55528412e+01, -2.51338935e+00, -1.29408855e+01],\n",
              "         [ 1.12301514e+02,  8.77238235e+01,  4.44920769e+01, ...,\n",
              "           7.55528412e+01, -2.51338935e+00, -1.29408855e+01],\n",
              "         [ 1.21045853e+02,  8.58424835e+01,  4.28760452e+01, ...,\n",
              "           1.26093323e+02,  1.24584923e+01, -6.50459433e+00]],\n",
              "\n",
              "        [[ 9.90792770e+01,  8.91130219e+01,  3.47661972e-01, ...,\n",
              "           9.71533813e+01, -1.21401339e+01, -3.28919525e+01],\n",
              "         [ 9.23431702e+01,  8.89225464e+01,  1.97041702e+01, ...,\n",
              "           6.59179153e+01, -1.98817170e+00, -4.03995781e+01],\n",
              "         [ 9.23431702e+01,  8.89225464e+01,  1.97041702e+01, ...,\n",
              "           6.59179153e+01, -1.98817170e+00, -4.03995781e+01],\n",
              "         ...,\n",
              "         [ 9.23431702e+01,  8.89225464e+01,  1.97041702e+01, ...,\n",
              "           6.59179153e+01, -1.98817170e+00, -4.03995781e+01],\n",
              "         [ 9.23431702e+01,  8.89225464e+01,  1.97041702e+01, ...,\n",
              "           6.59179153e+01, -1.98817170e+00, -4.03995781e+01],\n",
              "         [ 8.96595612e+01,  7.81436234e+01,  3.71879883e+01, ...,\n",
              "           1.22727562e+02,  2.09019203e+01, -2.52272167e+01]],\n",
              "\n",
              "        [[ 9.90792770e+01,  8.91130219e+01,  3.47661972e-01, ...,\n",
              "           9.71533813e+01, -1.21401339e+01, -3.28919525e+01],\n",
              "         [ 9.23431702e+01,  8.89225464e+01,  1.97041702e+01, ...,\n",
              "           6.59179153e+01, -1.98817170e+00, -4.03995781e+01],\n",
              "         [ 9.23431702e+01,  8.89225464e+01,  1.97041702e+01, ...,\n",
              "           6.59179153e+01, -1.98817170e+00, -4.03995781e+01],\n",
              "         ...,\n",
              "         [ 9.23431702e+01,  8.89225464e+01,  1.97041702e+01, ...,\n",
              "           6.59179153e+01, -1.98817170e+00, -4.03995781e+01],\n",
              "         [ 9.23431702e+01,  8.89225464e+01,  1.97041702e+01, ...,\n",
              "           6.59179153e+01, -1.98817170e+00, -4.03995781e+01],\n",
              "         [ 8.96595612e+01,  7.81436234e+01,  3.71879883e+01, ...,\n",
              "           1.22727562e+02,  2.09019203e+01, -2.52272167e+01]],\n",
              "\n",
              "        ...,\n",
              "\n",
              "        [[ 9.90792770e+01,  8.91130219e+01,  3.47661972e-01, ...,\n",
              "           9.71533813e+01, -1.21401339e+01, -3.28919525e+01],\n",
              "         [ 9.23431702e+01,  8.89225464e+01,  1.97041702e+01, ...,\n",
              "           6.59179153e+01, -1.98817170e+00, -4.03995781e+01],\n",
              "         [ 9.23431702e+01,  8.89225464e+01,  1.97041702e+01, ...,\n",
              "           6.59179153e+01, -1.98817170e+00, -4.03995781e+01],\n",
              "         ...,\n",
              "         [ 9.23431702e+01,  8.89225464e+01,  1.97041702e+01, ...,\n",
              "           6.59179153e+01, -1.98817170e+00, -4.03995781e+01],\n",
              "         [ 9.23431702e+01,  8.89225464e+01,  1.97041702e+01, ...,\n",
              "           6.59179153e+01, -1.98817170e+00, -4.03995781e+01],\n",
              "         [ 8.96595612e+01,  7.81436234e+01,  3.71879883e+01, ...,\n",
              "           1.22727562e+02,  2.09019203e+01, -2.52272167e+01]],\n",
              "\n",
              "        [[ 9.90792770e+01,  8.91130219e+01,  3.47661972e-01, ...,\n",
              "           9.71533813e+01, -1.21401339e+01, -3.28919525e+01],\n",
              "         [ 9.23431702e+01,  8.89225464e+01,  1.97041702e+01, ...,\n",
              "           6.59179153e+01, -1.98817170e+00, -4.03995781e+01],\n",
              "         [ 9.23431702e+01,  8.89225464e+01,  1.97041702e+01, ...,\n",
              "           6.59179153e+01, -1.98817170e+00, -4.03995781e+01],\n",
              "         ...,\n",
              "         [ 9.23431702e+01,  8.89225464e+01,  1.97041702e+01, ...,\n",
              "           6.59179153e+01, -1.98817170e+00, -4.03995781e+01],\n",
              "         [ 9.23431702e+01,  8.89225464e+01,  1.97041702e+01, ...,\n",
              "           6.59179153e+01, -1.98817170e+00, -4.03995781e+01],\n",
              "         [ 8.96595612e+01,  7.81436234e+01,  3.71879883e+01, ...,\n",
              "           1.22727562e+02,  2.09019203e+01, -2.52272167e+01]],\n",
              "\n",
              "        [[ 9.51419296e+01,  7.77053680e+01,  2.91644573e+00, ...,\n",
              "           9.81383972e+01, -6.93811893e+00, -1.15765285e+01],\n",
              "         [ 9.55095062e+01,  7.40084686e+01,  2.76423492e+01, ...,\n",
              "           7.35825119e+01,  1.43650322e+01, -2.15296326e+01],\n",
              "         [ 9.55095062e+01,  7.40084686e+01,  2.76423492e+01, ...,\n",
              "           7.35825119e+01,  1.43650322e+01, -2.15296326e+01],\n",
              "         ...,\n",
              "         [ 9.55095062e+01,  7.40084686e+01,  2.76423492e+01, ...,\n",
              "           7.35825119e+01,  1.43650322e+01, -2.15296326e+01],\n",
              "         [ 9.55095062e+01,  7.40084686e+01,  2.76423492e+01, ...,\n",
              "           7.35825119e+01,  1.43650322e+01, -2.15296326e+01],\n",
              "         [ 9.01099472e+01,  6.67788239e+01,  4.45115776e+01, ...,\n",
              "           1.42688812e+02,  4.30769272e+01, -1.62205181e+01]]],\n",
              "\n",
              "\n",
              "       [[[ 1.67010956e+02,  1.20918297e+02,  1.81507874e+01, ...,\n",
              "           1.39257828e+02, -6.12195444e+00, -1.11102657e+01],\n",
              "         [ 1.49673065e+02,  1.16916473e+02,  5.92980881e+01, ...,\n",
              "           1.00695198e+02, -3.34978986e+00, -1.72473278e+01],\n",
              "         [ 1.49673065e+02,  1.16916473e+02,  5.92980881e+01, ...,\n",
              "           1.00695198e+02, -3.34978986e+00, -1.72473278e+01],\n",
              "         ...,\n",
              "         [ 1.49673065e+02,  1.16916473e+02,  5.92980881e+01, ...,\n",
              "           1.00695198e+02, -3.34978986e+00, -1.72473278e+01],\n",
              "         [ 1.49673065e+02,  1.16916473e+02,  5.92980881e+01, ...,\n",
              "           1.00695198e+02, -3.34978986e+00, -1.72473278e+01],\n",
              "         [ 1.61327332e+02,  1.14409081e+02,  5.71442947e+01, ...,\n",
              "           1.68054474e+02,  1.66044159e+01, -8.66918468e+00]],\n",
              "\n",
              "        [[ 1.32050766e+02,  1.18767982e+02,  4.63310242e-01, ...,\n",
              "           1.29483963e+02, -1.61801243e+01, -4.38377037e+01],\n",
              "         [ 1.23072983e+02,  1.18514076e+02,  2.62612495e+01, ...,\n",
              "           8.78539581e+01, -2.64979911e+00, -5.38436813e+01],\n",
              "         [ 1.23072983e+02,  1.18514076e+02,  2.62612495e+01, ...,\n",
              "           8.78539581e+01, -2.64979911e+00, -5.38436813e+01],\n",
              "         ...,\n",
              "         [ 1.23072983e+02,  1.18514076e+02,  2.62612495e+01, ...,\n",
              "           8.78539581e+01, -2.64979911e+00, -5.38436813e+01],\n",
              "         [ 1.23072983e+02,  1.18514076e+02,  2.62612495e+01, ...,\n",
              "           8.78539581e+01, -2.64979911e+00, -5.38436813e+01],\n",
              "         [ 1.19496315e+02,  1.04148178e+02,  4.95633583e+01, ...,\n",
              "           1.63568695e+02,  2.78576317e+01, -3.36222916e+01]],\n",
              "\n",
              "        [[ 1.32050766e+02,  1.18767982e+02,  4.63310242e-01, ...,\n",
              "           1.29483963e+02, -1.61801243e+01, -4.38377037e+01],\n",
              "         [ 1.23072983e+02,  1.18514076e+02,  2.62612495e+01, ...,\n",
              "           8.78539581e+01, -2.64979911e+00, -5.38436813e+01],\n",
              "         [ 1.23072983e+02,  1.18514076e+02,  2.62612495e+01, ...,\n",
              "           8.78539581e+01, -2.64979911e+00, -5.38436813e+01],\n",
              "         ...,\n",
              "         [ 1.23072983e+02,  1.18514076e+02,  2.62612495e+01, ...,\n",
              "           8.78539581e+01, -2.64979911e+00, -5.38436813e+01],\n",
              "         [ 1.23072983e+02,  1.18514076e+02,  2.62612495e+01, ...,\n",
              "           8.78539581e+01, -2.64979911e+00, -5.38436813e+01],\n",
              "         [ 1.19496315e+02,  1.04148178e+02,  4.95633583e+01, ...,\n",
              "           1.63568695e+02,  2.78576317e+01, -3.36222916e+01]],\n",
              "\n",
              "        ...,\n",
              "\n",
              "        [[ 1.32050766e+02,  1.18767982e+02,  4.63310242e-01, ...,\n",
              "           1.29483963e+02, -1.61801243e+01, -4.38377037e+01],\n",
              "         [ 1.23072983e+02,  1.18514076e+02,  2.62612495e+01, ...,\n",
              "           8.78539581e+01, -2.64979911e+00, -5.38436813e+01],\n",
              "         [ 1.23072983e+02,  1.18514076e+02,  2.62612495e+01, ...,\n",
              "           8.78539581e+01, -2.64979911e+00, -5.38436813e+01],\n",
              "         ...,\n",
              "         [ 1.23072983e+02,  1.18514076e+02,  2.62612495e+01, ...,\n",
              "           8.78539581e+01, -2.64979911e+00, -5.38436813e+01],\n",
              "         [ 1.23072983e+02,  1.18514076e+02,  2.62612495e+01, ...,\n",
              "           8.78539581e+01, -2.64979911e+00, -5.38436813e+01],\n",
              "         [ 1.19496315e+02,  1.04148178e+02,  4.95633583e+01, ...,\n",
              "           1.63568695e+02,  2.78576317e+01, -3.36222916e+01]],\n",
              "\n",
              "        [[ 1.32050766e+02,  1.18767982e+02,  4.63310242e-01, ...,\n",
              "           1.29483963e+02, -1.61801243e+01, -4.38377037e+01],\n",
              "         [ 1.23072983e+02,  1.18514076e+02,  2.62612495e+01, ...,\n",
              "           8.78539581e+01, -2.64979911e+00, -5.38436813e+01],\n",
              "         [ 1.23072983e+02,  1.18514076e+02,  2.62612495e+01, ...,\n",
              "           8.78539581e+01, -2.64979911e+00, -5.38436813e+01],\n",
              "         ...,\n",
              "         [ 1.23072983e+02,  1.18514076e+02,  2.62612495e+01, ...,\n",
              "           8.78539581e+01, -2.64979911e+00, -5.38436813e+01],\n",
              "         [ 1.23072983e+02,  1.18514076e+02,  2.62612495e+01, ...,\n",
              "           8.78539581e+01, -2.64979911e+00, -5.38436813e+01],\n",
              "         [ 1.19496315e+02,  1.04148178e+02,  4.95633583e+01, ...,\n",
              "           1.63568695e+02,  2.78576317e+01, -3.36222916e+01]],\n",
              "\n",
              "        [[ 1.26803139e+02,  1.03564117e+02,  3.88693428e+00, ...,\n",
              "           1.30796783e+02, -9.24697685e+00, -1.54289455e+01],\n",
              "         [ 1.27292984e+02,  9.86369247e+01,  3.68411102e+01, ...,\n",
              "           9.80691833e+01,  1.91454220e+01, -2.86942444e+01],\n",
              "         [ 1.27292984e+02,  9.86369247e+01,  3.68411102e+01, ...,\n",
              "           9.80691833e+01,  1.91454220e+01, -2.86942444e+01],\n",
              "         ...,\n",
              "         [ 1.27292984e+02,  9.86369247e+01,  3.68411102e+01, ...,\n",
              "           9.80691833e+01,  1.91454220e+01, -2.86942444e+01],\n",
              "         [ 1.27292984e+02,  9.86369247e+01,  3.68411102e+01, ...,\n",
              "           9.80691833e+01,  1.91454220e+01, -2.86942444e+01],\n",
              "         [ 1.20096573e+02,  8.90013809e+01,  5.93240547e+01, ...,\n",
              "           1.90172668e+02,  5.74119873e+01, -2.16183472e+01]]],\n",
              "\n",
              "\n",
              "       [[[ 8.34012032e-01,  6.03836775e-01,  9.06407237e-02, ...,\n",
              "           6.95420027e-01, -3.05715371e-02, -5.54819591e-02],\n",
              "         [ 7.47430980e-01,  5.83852530e-01,  2.96120226e-01, ...,\n",
              "           5.02847672e-01, -1.67279970e-02, -8.61290172e-02],\n",
              "         [ 7.47430980e-01,  5.83852530e-01,  2.96120226e-01, ...,\n",
              "           5.02847672e-01, -1.67279970e-02, -8.61290172e-02],\n",
              "         ...,\n",
              "         [ 7.47430980e-01,  5.83852530e-01,  2.96120226e-01, ...,\n",
              "           5.02847672e-01, -1.67279970e-02, -8.61290172e-02],\n",
              "         [ 7.47430980e-01,  5.83852530e-01,  2.96120226e-01, ...,\n",
              "           5.02847672e-01, -1.67279970e-02, -8.61290172e-02],\n",
              "         [ 8.05629551e-01,  5.71330965e-01,  2.85364687e-01, ...,\n",
              "           8.39223504e-01,  8.29183757e-02, -4.32917774e-02]],\n",
              "\n",
              "        [[ 6.59429252e-01,  5.93098700e-01,  2.31373310e-03, ...,\n",
              "           6.46611512e-01, -8.07995945e-02, -2.18914807e-01],\n",
              "         [ 6.14596844e-01,  5.91830671e-01,  1.31142378e-01, ...,\n",
              "           4.38721329e-01, -1.32324370e-02, -2.68882364e-01],\n",
              "         [ 6.14596844e-01,  5.91830671e-01,  1.31142378e-01, ...,\n",
              "           4.38721329e-01, -1.32324370e-02, -2.68882364e-01],\n",
              "         ...,\n",
              "         [ 6.14596844e-01,  5.91830671e-01,  1.31142378e-01, ...,\n",
              "           4.38721329e-01, -1.32324370e-02, -2.68882364e-01],\n",
              "         [ 6.14596844e-01,  5.91830671e-01,  1.31142378e-01, ...,\n",
              "           4.38721329e-01, -1.32324370e-02, -2.68882364e-01],\n",
              "         [ 5.96735775e-01,  5.20090938e-01,  2.47507408e-01, ...,\n",
              "           8.16822290e-01,  1.39114141e-01, -1.67901546e-01]],\n",
              "\n",
              "        [[ 6.59429252e-01,  5.93098700e-01,  2.31373310e-03, ...,\n",
              "           6.46611512e-01, -8.07995945e-02, -2.18914807e-01],\n",
              "         [ 6.14596844e-01,  5.91830671e-01,  1.31142378e-01, ...,\n",
              "           4.38721329e-01, -1.32324370e-02, -2.68882364e-01],\n",
              "         [ 6.14596844e-01,  5.91830671e-01,  1.31142378e-01, ...,\n",
              "           4.38721329e-01, -1.32324370e-02, -2.68882364e-01],\n",
              "         ...,\n",
              "         [ 6.14596844e-01,  5.91830671e-01,  1.31142378e-01, ...,\n",
              "           4.38721329e-01, -1.32324370e-02, -2.68882364e-01],\n",
              "         [ 6.14596844e-01,  5.91830671e-01,  1.31142378e-01, ...,\n",
              "           4.38721329e-01, -1.32324370e-02, -2.68882364e-01],\n",
              "         [ 5.96735775e-01,  5.20090938e-01,  2.47507408e-01, ...,\n",
              "           8.16822290e-01,  1.39114141e-01, -1.67901546e-01]],\n",
              "\n",
              "        ...,\n",
              "\n",
              "        [[ 6.59429252e-01,  5.93098700e-01,  2.31373310e-03, ...,\n",
              "           6.46611512e-01, -8.07995945e-02, -2.18914807e-01],\n",
              "         [ 6.14596844e-01,  5.91830671e-01,  1.31142378e-01, ...,\n",
              "           4.38721329e-01, -1.32324370e-02, -2.68882364e-01],\n",
              "         [ 6.14596844e-01,  5.91830671e-01,  1.31142378e-01, ...,\n",
              "           4.38721329e-01, -1.32324370e-02, -2.68882364e-01],\n",
              "         ...,\n",
              "         [ 6.14596844e-01,  5.91830671e-01,  1.31142378e-01, ...,\n",
              "           4.38721329e-01, -1.32324370e-02, -2.68882364e-01],\n",
              "         [ 6.14596844e-01,  5.91830671e-01,  1.31142378e-01, ...,\n",
              "           4.38721329e-01, -1.32324370e-02, -2.68882364e-01],\n",
              "         [ 5.96735775e-01,  5.20090938e-01,  2.47507408e-01, ...,\n",
              "           8.16822290e-01,  1.39114141e-01, -1.67901546e-01]],\n",
              "\n",
              "        [[ 6.59429252e-01,  5.93098700e-01,  2.31373310e-03, ...,\n",
              "           6.46611512e-01, -8.07995945e-02, -2.18914807e-01],\n",
              "         [ 6.14596844e-01,  5.91830671e-01,  1.31142378e-01, ...,\n",
              "           4.38721329e-01, -1.32324370e-02, -2.68882364e-01],\n",
              "         [ 6.14596844e-01,  5.91830671e-01,  1.31142378e-01, ...,\n",
              "           4.38721329e-01, -1.32324370e-02, -2.68882364e-01],\n",
              "         ...,\n",
              "         [ 6.14596844e-01,  5.91830671e-01,  1.31142378e-01, ...,\n",
              "           4.38721329e-01, -1.32324370e-02, -2.68882364e-01],\n",
              "         [ 6.14596844e-01,  5.91830671e-01,  1.31142378e-01, ...,\n",
              "           4.38721329e-01, -1.32324370e-02, -2.68882364e-01],\n",
              "         [ 5.96735775e-01,  5.20090938e-01,  2.47507408e-01, ...,\n",
              "           8.16822290e-01,  1.39114141e-01, -1.67901546e-01]],\n",
              "\n",
              "        [[ 6.33224249e-01,  5.17174184e-01,  1.94103792e-02, ...,\n",
              "           6.53167546e-01, -4.61771861e-02, -7.70484209e-02],\n",
              "         [ 6.35670543e-01,  4.92568970e-01,  1.83975518e-01, ...,\n",
              "           4.89733726e-01,  9.56076384e-02, -1.43292174e-01],\n",
              "         [ 6.35670543e-01,  4.92568970e-01,  1.83975518e-01, ...,\n",
              "           4.89733726e-01,  9.56076384e-02, -1.43292174e-01],\n",
              "         ...,\n",
              "         [ 6.35670543e-01,  4.92568970e-01,  1.83975518e-01, ...,\n",
              "           4.89733726e-01,  9.56076384e-02, -1.43292174e-01],\n",
              "         [ 6.35670543e-01,  4.92568970e-01,  1.83975518e-01, ...,\n",
              "           4.89733726e-01,  9.56076384e-02, -1.43292174e-01],\n",
              "         [ 5.99733412e-01,  4.44451511e-01,  2.96250194e-01, ...,\n",
              "           9.49676275e-01,  2.86701441e-01, -1.07956909e-01]]]],\n",
              "      dtype=float32)>"
            ]
          },
          "metadata": {
            "tags": []
          },
          "execution_count": 11
        }
      ]
    },
    {
      "cell_type": "markdown",
      "metadata": {
        "id": "dprk2EIRfpxz",
        "colab_type": "text"
      },
      "source": [
        "#AUDIO READ IN and define DISCRIMINATOR"
      ]
    },
    {
      "cell_type": "code",
      "metadata": {
        "id": "dvUPQG2igTjF",
        "colab_type": "code",
        "colab": {}
      },
      "source": [
        "# Here we need the function that converts Wave to images "
      ],
      "execution_count": 0,
      "outputs": []
    },
    {
      "cell_type": "markdown",
      "metadata": {
        "id": "pTcWT3hcP5fM",
        "colab_type": "text"
      },
      "source": [
        "##Read Files and Concatenate\n",
        "Pleaseremember that every file with the same number will be concatenate"
      ]
    },
    {
      "cell_type": "code",
      "metadata": {
        "id": "md6QSnfwh8eK",
        "colab_type": "code",
        "outputId": "8a3a5a76-cfe0-4b66-f168-2ce5a50db0cb",
        "colab": {
          "base_uri": "https://localhost:8080/",
          "height": 50
        }
      },
      "source": [
        "def getListOfFiles(dirName):\n",
        "  # create a list of file and sub directories \n",
        "  # names in the given directory \n",
        "  listOfFile = os.listdir(dirName)\n",
        "  allFiles = list()\n",
        "  # Iterate over all the entries\n",
        "  for entry in listOfFile:\n",
        "      # Create full path\n",
        "      fullPath = os.path.join(dirName, entry)\n",
        "      # If entry is a directory then get the list of files in this directory \n",
        "      if os.path.isdir(fullPath):\n",
        "          allFiles = allFiles + getListOfFiles(fullPath)\n",
        "      else:\n",
        "          allFiles.append(fullPath)\n",
        "\n",
        "  return allFiles\n",
        "  \n",
        "  \n",
        "# Not stable is pre alpha cause when the pictures not directly inumeratet \n",
        "# [102. 150. 102.   3.] this output is not good but if you print out the data concat read in you find the error but why\n",
        "# for item in audioList:\n",
        "#  print(item)\n",
        "\n",
        "\n",
        "def rgb2gray(rgb):\n",
        "    return np.dot(rgb[...,:3], [0.299, 0.587, 0.114])\n",
        "\n",
        "  \n",
        "def From6to2Dimensions(log,phase):\n",
        "   \n",
        "  log = rgb2gray(log) \n",
        "  phase = rgb2gray(phase) \n",
        "\n",
        "  reshapeAudioImage = np.ndarray((224,224,2))\n",
        "  reshapeAudioImage[:,:,0] = log[:,:]\n",
        "  reshapeAudioImage[:,:,1] = phase[:,:]\n",
        "  \n",
        "  return reshapeAudioImage\n",
        "  \n",
        "\n",
        "\n",
        "\n",
        "def ConcatAllPairsInFolder(audiolist):\n",
        "  n = 1\n",
        "  concatAudioImage = [len(audioList)/2,224,224,6]\n",
        "  for item in audioList:\n",
        "    #print(n)\n",
        "\n",
        "    import re\n",
        "    r = re.compile('.*_' + str(n) +'.jpg')\n",
        "    pair = list(filter(r.match, audioList)) # Read Note\n",
        "    #print(pair[0],\" \",pair[1])\n",
        "    #print(pair)\n",
        "    \n",
        "\n",
        "    import cv2 \n",
        "    log     = cv2.imread(pair[0])  \n",
        "    phase   = cv2.imread(pair[1])\n",
        "\n",
        "    \n",
        "    \n",
        "    #import tensorflow as tf\n",
        "    # dimension 2 IS RIGHT ????\n",
        "    #LogPhaseCon = tf.concat([log,phase],2)\n",
        "    #print(LogPhaseCon)\n",
        "\n",
        "    concatAudioImage[n-1] = From6to2Dimensions(log,phase)\n",
        "    \n",
        "\n",
        "\n",
        "    if n >= len(audioList)/2:\n",
        "      return concatAudioImage\n",
        "      break\n",
        "    else:\n",
        "      n=n+1\n",
        "      \n",
        "\n",
        "\n",
        "def ConvertToTensor(concatImageAudioList, audioimageCount):\n",
        "  import numpy as np\n",
        "  ndarray = np.ones([audioimageCount,224,224,2])\n",
        "  \n",
        "  # Convert color to grey 6 - 2 channel\n",
        "\n",
        "  ndarray[0,:,:,:] = concatImageAudioList[0]\n",
        "\n",
        "  n=0\n",
        "  for item in concatImageAudioList:\n",
        "    ndarray[n,:,:,:] = concatImageAudioList[n]\n",
        "    n=n+1\n",
        "\n",
        "  # TO CHECK THAT THE DATA IS RIGHT\n",
        "  #print(ndarray[:,0,0,0])\n",
        "\n",
        "  # CONVERT A NUMPY ARRAY TO A TENSOR\n",
        "  tensor = tf.add(ndarray, 1)\n",
        "  #print(tensor.shape)\n",
        "  #print(tensor[3])\n",
        "\n",
        "\n",
        "  #tf.convert_to_tensor([ndarray, 1, 1, 64])\n",
        "  return tf.convert_to_tensor(ndarray, np.float32)\n",
        "  #type(data_tf)\n",
        "  #sess = tf.compat.v1.InteractiveSession()\n",
        "  #print(data_tf.numpy())\n",
        "  #sess.close()\n",
        "\n",
        "  \n",
        "\n",
        "audioFolder = 'audio_input/'\n",
        "audioList = getListOfFiles(audioFolder)\n",
        "\n",
        "concatImageAudioList = ConcatAllPairsInFolder(audioList)\n",
        "#print(concatImageAudioList)\n",
        "\n",
        "\n",
        "\n",
        "\n",
        "audioimageCount = len(concatImageAudioList)\n",
        "data_tf = ConvertToTensor(concatImageAudioList,audioimageCount)\n",
        "\n",
        " \n",
        "audioImage_dataSet = data_tf\n",
        "print(audioImage_dataSet.shape)\n",
        "type(audioImage_dataSet)\n",
        "\n",
        "\n"
      ],
      "execution_count": 0,
      "outputs": [
        {
          "output_type": "stream",
          "text": [
            "(4, 224, 224, 2)\n"
          ],
          "name": "stdout"
        },
        {
          "output_type": "execute_result",
          "data": {
            "text/plain": [
              "tensorflow.python.framework.ops.EagerTensor"
            ]
          },
          "metadata": {
            "tags": []
          },
          "execution_count": 12
        }
      ]
    },
    {
      "cell_type": "markdown",
      "metadata": {
        "id": "BLNqqP_3b2kp",
        "colab_type": "text"
      },
      "source": [
        "##Define AUDIO Convolution\n"
      ]
    },
    {
      "cell_type": "markdown",
      "metadata": {
        "id": "3wyZIAsJsKth",
        "colab_type": "text"
      },
      "source": [
        ""
      ]
    },
    {
      "cell_type": "code",
      "metadata": {
        "id": "wlx7tiP4b2RB",
        "colab_type": "code",
        "outputId": "572efa7c-991d-44a6-d026-ad2074f63fd1",
        "colab": {
          "base_uri": "https://localhost:8080/",
          "height": 1000
        }
      },
      "source": [
        "\n",
        "def discriminator_Audio():\n",
        "  model = tf.keras.Sequential()\n",
        "  model.add(layers.Conv2D(32, (3,3), strides = (1,1), padding = 'same', input_shape= [224,224,2]))\n",
        "  model.add(layers.LeakyReLU())\n",
        "\n",
        "  model.add(layers.MaxPooling2D(2, 2))\n",
        "  model.add(layers.Conv2D(64, (3,3), strides = (1,1), padding = 'same'))\n",
        "  model.add(layers.LeakyReLU())\n",
        "  \n",
        "  model.add(layers.MaxPooling2D(2, 2))\n",
        "  model.add(layers.Conv2D(128, (3,3), strides = (1,1), padding = 'same'))\n",
        "  model.add(layers.LeakyReLU())\n",
        "  model.add(layers.MaxPooling2D(2, 2))\n",
        "  for layer in model.layers:\n",
        "    aA=layer.output_shape\n",
        "    bA=layer.output\n",
        "    #print(aA)\n",
        "    #print(bA)\n",
        "  \n",
        "  return model\n",
        "\n",
        "\n",
        "\n",
        "discriminator_audio = discriminator_Audio()\n",
        "discriminator_audio(audioImage_dataSet)"
      ],
      "execution_count": 0,
      "outputs": [
        {
          "output_type": "execute_result",
          "data": {
            "text/plain": [
              "<tf.Tensor: id=260, shape=(4, 28, 28, 128), dtype=float32, numpy=\n",
              "array([[[[-0.16719475, -1.8148965 , -0.9187167 , ..., -0.41803616,\n",
              "           8.948854  ,  9.361895  ],\n",
              "         [ 1.8813474 , -1.1519593 , -0.8757272 , ..., -0.7382955 ,\n",
              "           5.775492  ,  4.802819  ],\n",
              "         [ 1.9273419 , -1.1251168 , -0.8556239 , ..., -0.74622   ,\n",
              "           5.738511  ,  4.6556683 ],\n",
              "         ...,\n",
              "         [ 1.9566345 , -1.2149076 , -0.987089  , ..., -0.78581685,\n",
              "           5.6825256 ,  4.7877574 ],\n",
              "         [ 1.9846731 , -1.2093303 , -0.94142735, ..., -0.7534993 ,\n",
              "           5.699684  ,  4.8854795 ],\n",
              "         [ 1.4390252 , -0.3931781 , -0.7856674 , ..., -0.03361051,\n",
              "           4.8417187 , 10.1800995 ]],\n",
              "\n",
              "        [[ 2.0214288 , -1.1789691 , -1.3172276 , ..., -0.37642312,\n",
              "           7.27404   ,  9.809053  ],\n",
              "         [ 2.594878  , -0.675712  , -1.3019868 , ..., -0.9657056 ,\n",
              "           2.443986  ,  3.682392  ],\n",
              "         [ 2.616006  , -0.6720295 , -1.2869139 , ..., -0.9690094 ,\n",
              "           2.268038  ,  3.3436859 ],\n",
              "         ...,\n",
              "         [ 3.029021  , -0.6358596 , -1.3511714 , ..., -0.84139484,\n",
              "           2.0520167 ,  3.585898  ],\n",
              "         [ 2.9779108 , -0.6417408 , -1.3375196 , ..., -0.83491033,\n",
              "           2.0479615 ,  3.7000108 ],\n",
              "         [ 0.9185202 ,  0.06250477, -1.8901453 , ..., -1.1183516 ,\n",
              "           1.0696366 ,  8.624021  ]],\n",
              "\n",
              "        [[ 1.7332184 , -1.23931   , -1.3580356 , ..., -0.3520578 ,\n",
              "           7.402835  , 10.021505  ],\n",
              "         [ 2.4537582 , -0.68315285, -1.3509277 , ..., -0.941271  ,\n",
              "           2.3576868 ,  3.767797  ],\n",
              "         [ 2.550653  , -0.66869664, -1.3240263 , ..., -0.95254844,\n",
              "           2.3457642 ,  3.4434948 ],\n",
              "         ...,\n",
              "         [ 2.381597  , -0.60589767, -1.1743902 , ..., -0.71453387,\n",
              "           2.2595677 ,  3.5680304 ],\n",
              "         [ 2.387486  , -0.60907847, -1.1512351 , ..., -0.6794278 ,\n",
              "           2.2799363 ,  3.7312055 ],\n",
              "         [ 0.37527013, -0.06300588, -1.7680719 , ..., -1.1065713 ,\n",
              "           1.4276153 ,  8.476715  ]],\n",
              "\n",
              "        ...,\n",
              "\n",
              "        [[-3.8268983 , -4.4081197 , -2.4892857 , ...,  0.8494204 ,\n",
              "          13.467741  , 17.341742  ],\n",
              "         [-3.094825  , -4.143767  , -3.5282414 , ...,  0.56608737,\n",
              "           9.673531  ,  9.693216  ],\n",
              "         [-3.034054  , -4.2942376 , -3.4938917 , ...,  0.97900563,\n",
              "           9.7997675 ,  9.28012   ],\n",
              "         ...,\n",
              "         [ 2.7001853 , -0.87531483, -1.355807  , ..., -0.96417755,\n",
              "           1.9659166 ,  3.5421016 ],\n",
              "         [ 2.6791987 , -0.88807315, -1.3245237 , ..., -0.92369246,\n",
              "           1.9503479 ,  3.6419072 ],\n",
              "         [ 0.92061645,  0.41932058, -1.8210987 , ..., -1.191173  ,\n",
              "           1.2480044 ,  9.029451  ]],\n",
              "\n",
              "        [[-4.8514566 , -3.557565  , -2.0139823 , ...,  0.97229135,\n",
              "          13.861945  , 16.47789   ],\n",
              "         [-3.7324557 , -2.901769  , -2.3541322 , ..., -0.45898333,\n",
              "          13.397953  ,  9.496125  ],\n",
              "         [-3.3544924 , -2.816154  , -2.2822056 , ..., -0.46759602,\n",
              "          13.408779  ,  8.904402  ],\n",
              "         ...,\n",
              "         [ 5.1845098 , -1.1776448 , -2.5375986 , ..., -0.8631641 ,\n",
              "           3.83607   ,  7.8901677 ],\n",
              "         [ 5.1544733 , -1.1865782 , -2.5236218 , ..., -0.81370276,\n",
              "           4.0361977 ,  8.1154785 ],\n",
              "         [ 3.2903671 ,  0.8987162 , -2.2218401 , ..., -0.7898306 ,\n",
              "           3.3223128 , 13.694303  ]],\n",
              "\n",
              "        [[ 9.602275  ,  8.970579  ,  2.1305766 , ..., -1.48229   ,\n",
              "           8.108591  , 10.287727  ],\n",
              "         [10.200448  , 11.497762  ,  0.23056182, ..., -2.1808918 ,\n",
              "           4.7822704 ,  4.275383  ],\n",
              "         [10.427008  , 11.148995  ,  0.28342566, ..., -2.1088455 ,\n",
              "           4.222792  ,  4.310393  ],\n",
              "         ...,\n",
              "         [10.712298  , -0.5484199 , -0.19365203, ..., -0.2718443 ,\n",
              "           3.316407  ,  8.589571  ],\n",
              "         [10.822948  , -0.5674555 , -0.1051926 , ..., -0.2881936 ,\n",
              "           3.3751836 ,  9.101636  ],\n",
              "         [15.281593  ,  1.9227961 ,  0.71021783, ..., -0.2948205 ,\n",
              "           4.3060203 , 14.404882  ]]],\n",
              "\n",
              "\n",
              "       [[[-0.16719475, -1.8148965 , -0.9187167 , ..., -0.41803616,\n",
              "           8.948854  ,  9.361895  ],\n",
              "         [ 1.8813474 , -1.1519593 , -0.8757272 , ..., -0.7382955 ,\n",
              "           5.775492  ,  4.802819  ],\n",
              "         [ 1.9273419 , -1.1251168 , -0.8556239 , ..., -0.74622   ,\n",
              "           5.738511  ,  4.6556683 ],\n",
              "         ...,\n",
              "         [ 1.9566345 , -1.2149076 , -0.987089  , ..., -0.78581685,\n",
              "           5.6825256 ,  4.7877574 ],\n",
              "         [ 1.9846731 , -1.2093303 , -0.94142735, ..., -0.7534993 ,\n",
              "           5.699684  ,  4.8854795 ],\n",
              "         [ 1.4390252 , -0.3931781 , -0.7856674 , ..., -0.03361051,\n",
              "           4.8417187 , 10.1800995 ]],\n",
              "\n",
              "        [[ 2.0214288 , -1.1789691 , -1.3172276 , ..., -0.37642312,\n",
              "           7.27404   ,  9.809053  ],\n",
              "         [ 2.594878  , -0.675712  , -1.3019868 , ..., -0.9657056 ,\n",
              "           2.443986  ,  3.682392  ],\n",
              "         [ 2.616006  , -0.6720295 , -1.2869139 , ..., -0.9690094 ,\n",
              "           2.268038  ,  3.3436859 ],\n",
              "         ...,\n",
              "         [ 3.029021  , -0.6358596 , -1.3511714 , ..., -0.84139484,\n",
              "           2.0520167 ,  3.585898  ],\n",
              "         [ 2.9779108 , -0.6417408 , -1.3375196 , ..., -0.83491033,\n",
              "           2.0479615 ,  3.7000108 ],\n",
              "         [ 0.9185202 ,  0.06250477, -1.8901453 , ..., -1.1183516 ,\n",
              "           1.0696366 ,  8.624021  ]],\n",
              "\n",
              "        [[ 1.7332184 , -1.23931   , -1.3580356 , ..., -0.3520578 ,\n",
              "           7.402835  , 10.021505  ],\n",
              "         [ 2.4537582 , -0.68315285, -1.3509277 , ..., -0.941271  ,\n",
              "           2.3576868 ,  3.767797  ],\n",
              "         [ 2.550653  , -0.66869664, -1.3240263 , ..., -0.95254844,\n",
              "           2.3457642 ,  3.4434948 ],\n",
              "         ...,\n",
              "         [ 2.381597  , -0.60589767, -1.1743902 , ..., -0.71453387,\n",
              "           2.2595677 ,  3.5680304 ],\n",
              "         [ 2.387486  , -0.60907847, -1.1512351 , ..., -0.6794278 ,\n",
              "           2.2799363 ,  3.7312055 ],\n",
              "         [ 0.37527013, -0.06300588, -1.7680719 , ..., -1.1065713 ,\n",
              "           1.4276153 ,  8.476715  ]],\n",
              "\n",
              "        ...,\n",
              "\n",
              "        [[-3.8268983 , -4.4081197 , -2.4892857 , ...,  0.8494204 ,\n",
              "          13.467741  , 17.341742  ],\n",
              "         [-3.094825  , -4.143767  , -3.5282414 , ...,  0.56608737,\n",
              "           9.673531  ,  9.693216  ],\n",
              "         [-3.034054  , -4.2942376 , -3.4938917 , ...,  0.97900563,\n",
              "           9.7997675 ,  9.28012   ],\n",
              "         ...,\n",
              "         [ 2.7001853 , -0.87531483, -1.355807  , ..., -0.96417755,\n",
              "           1.9659166 ,  3.5421016 ],\n",
              "         [ 2.6791987 , -0.88807315, -1.3245237 , ..., -0.92369246,\n",
              "           1.9503479 ,  3.6419072 ],\n",
              "         [ 0.92061645,  0.41932058, -1.8210987 , ..., -1.191173  ,\n",
              "           1.2480044 ,  9.029451  ]],\n",
              "\n",
              "        [[-4.8514566 , -3.557565  , -2.0139823 , ...,  0.97229135,\n",
              "          13.861945  , 16.47789   ],\n",
              "         [-3.7324557 , -2.901769  , -2.3541322 , ..., -0.45898333,\n",
              "          13.397953  ,  9.496125  ],\n",
              "         [-3.3544924 , -2.816154  , -2.2822056 , ..., -0.46759602,\n",
              "          13.408779  ,  8.904402  ],\n",
              "         ...,\n",
              "         [ 5.1845098 , -1.1776448 , -2.5375986 , ..., -0.8631641 ,\n",
              "           3.83607   ,  7.8901677 ],\n",
              "         [ 5.1544733 , -1.1865782 , -2.5236218 , ..., -0.81370276,\n",
              "           4.0361977 ,  8.1154785 ],\n",
              "         [ 3.2903671 ,  0.8987162 , -2.2218401 , ..., -0.7898306 ,\n",
              "           3.3223128 , 13.694303  ]],\n",
              "\n",
              "        [[ 9.602275  ,  8.970579  ,  2.1305766 , ..., -1.48229   ,\n",
              "           8.108591  , 10.287727  ],\n",
              "         [10.200448  , 11.497762  ,  0.23056182, ..., -2.1808918 ,\n",
              "           4.7822704 ,  4.275383  ],\n",
              "         [10.427008  , 11.148995  ,  0.28342566, ..., -2.1088455 ,\n",
              "           4.222792  ,  4.310393  ],\n",
              "         ...,\n",
              "         [10.712298  , -0.5484199 , -0.19365203, ..., -0.2718443 ,\n",
              "           3.316407  ,  8.589571  ],\n",
              "         [10.822948  , -0.5674555 , -0.1051926 , ..., -0.2881936 ,\n",
              "           3.3751836 ,  9.101636  ],\n",
              "         [15.281593  ,  1.9227961 ,  0.71021783, ..., -0.2948205 ,\n",
              "           4.3060203 , 14.404882  ]]],\n",
              "\n",
              "\n",
              "       [[[-0.16719475, -1.8148965 , -0.9187167 , ..., -0.41803616,\n",
              "           8.948854  ,  9.361895  ],\n",
              "         [ 1.8813474 , -1.1519593 , -0.8757272 , ..., -0.7382955 ,\n",
              "           5.775492  ,  4.802819  ],\n",
              "         [ 1.9273419 , -1.1251168 , -0.8556239 , ..., -0.74622   ,\n",
              "           5.738511  ,  4.6556683 ],\n",
              "         ...,\n",
              "         [ 1.9566345 , -1.2149076 , -0.987089  , ..., -0.78581685,\n",
              "           5.6825256 ,  4.7877574 ],\n",
              "         [ 1.9846731 , -1.2093303 , -0.94142735, ..., -0.7534993 ,\n",
              "           5.699684  ,  4.8854795 ],\n",
              "         [ 1.4390252 , -0.3931781 , -0.7856674 , ..., -0.03361051,\n",
              "           4.8417187 , 10.1800995 ]],\n",
              "\n",
              "        [[ 2.0214288 , -1.1789691 , -1.3172276 , ..., -0.37642312,\n",
              "           7.27404   ,  9.809053  ],\n",
              "         [ 2.594878  , -0.675712  , -1.3019868 , ..., -0.9657056 ,\n",
              "           2.443986  ,  3.682392  ],\n",
              "         [ 2.616006  , -0.6720295 , -1.2869139 , ..., -0.9690094 ,\n",
              "           2.268038  ,  3.3436859 ],\n",
              "         ...,\n",
              "         [ 3.029021  , -0.6358596 , -1.3511714 , ..., -0.84139484,\n",
              "           2.0520167 ,  3.585898  ],\n",
              "         [ 2.9779108 , -0.6417408 , -1.3375196 , ..., -0.83491033,\n",
              "           2.0479615 ,  3.7000108 ],\n",
              "         [ 0.9185202 ,  0.06250477, -1.8901453 , ..., -1.1183516 ,\n",
              "           1.0696366 ,  8.624021  ]],\n",
              "\n",
              "        [[ 1.7332184 , -1.23931   , -1.3580356 , ..., -0.3520578 ,\n",
              "           7.402835  , 10.021505  ],\n",
              "         [ 2.4537582 , -0.68315285, -1.3509277 , ..., -0.941271  ,\n",
              "           2.3576868 ,  3.767797  ],\n",
              "         [ 2.550653  , -0.66869664, -1.3240263 , ..., -0.95254844,\n",
              "           2.3457642 ,  3.4434948 ],\n",
              "         ...,\n",
              "         [ 2.381597  , -0.60589767, -1.1743902 , ..., -0.71453387,\n",
              "           2.2595677 ,  3.5680304 ],\n",
              "         [ 2.387486  , -0.60907847, -1.1512351 , ..., -0.6794278 ,\n",
              "           2.2799363 ,  3.7312055 ],\n",
              "         [ 0.37527013, -0.06300588, -1.7680719 , ..., -1.1065713 ,\n",
              "           1.4276153 ,  8.476715  ]],\n",
              "\n",
              "        ...,\n",
              "\n",
              "        [[-3.8268983 , -4.4081197 , -2.4892857 , ...,  0.8494204 ,\n",
              "          13.467741  , 17.341742  ],\n",
              "         [-3.094825  , -4.143767  , -3.5282414 , ...,  0.56608737,\n",
              "           9.673531  ,  9.693216  ],\n",
              "         [-3.034054  , -4.2942376 , -3.4938917 , ...,  0.97900563,\n",
              "           9.7997675 ,  9.28012   ],\n",
              "         ...,\n",
              "         [ 2.7001853 , -0.87531483, -1.355807  , ..., -0.96417755,\n",
              "           1.9659166 ,  3.5421016 ],\n",
              "         [ 2.6791987 , -0.88807315, -1.3245237 , ..., -0.92369246,\n",
              "           1.9503479 ,  3.6419072 ],\n",
              "         [ 0.92061645,  0.41932058, -1.8210987 , ..., -1.191173  ,\n",
              "           1.2480044 ,  9.029451  ]],\n",
              "\n",
              "        [[-4.8514566 , -3.557565  , -2.0139823 , ...,  0.97229135,\n",
              "          13.861945  , 16.47789   ],\n",
              "         [-3.7324557 , -2.901769  , -2.3541322 , ..., -0.45898333,\n",
              "          13.397953  ,  9.496125  ],\n",
              "         [-3.3544924 , -2.816154  , -2.2822056 , ..., -0.46759602,\n",
              "          13.408779  ,  8.904402  ],\n",
              "         ...,\n",
              "         [ 5.1845098 , -1.1776448 , -2.5375986 , ..., -0.8631641 ,\n",
              "           3.83607   ,  7.8901677 ],\n",
              "         [ 5.1544733 , -1.1865782 , -2.5236218 , ..., -0.81370276,\n",
              "           4.0361977 ,  8.1154785 ],\n",
              "         [ 3.2903671 ,  0.8987162 , -2.2218401 , ..., -0.7898306 ,\n",
              "           3.3223128 , 13.694303  ]],\n",
              "\n",
              "        [[ 9.602275  ,  8.970579  ,  2.1305766 , ..., -1.48229   ,\n",
              "           8.108591  , 10.287727  ],\n",
              "         [10.200448  , 11.497762  ,  0.23056182, ..., -2.1808918 ,\n",
              "           4.7822704 ,  4.275383  ],\n",
              "         [10.427008  , 11.148995  ,  0.28342566, ..., -2.1088455 ,\n",
              "           4.222792  ,  4.310393  ],\n",
              "         ...,\n",
              "         [10.712298  , -0.5484199 , -0.19365203, ..., -0.2718443 ,\n",
              "           3.316407  ,  8.589571  ],\n",
              "         [10.822948  , -0.5674555 , -0.1051926 , ..., -0.2881936 ,\n",
              "           3.3751836 ,  9.101636  ],\n",
              "         [15.281593  ,  1.9227961 ,  0.71021783, ..., -0.2948205 ,\n",
              "           4.3060203 , 14.404882  ]]],\n",
              "\n",
              "\n",
              "       [[[-0.16719475, -1.8148965 , -0.9187167 , ..., -0.41803616,\n",
              "           8.948854  ,  9.361895  ],\n",
              "         [ 1.8813474 , -1.1519593 , -0.8757272 , ..., -0.7382955 ,\n",
              "           5.775492  ,  4.802819  ],\n",
              "         [ 1.9273419 , -1.1251168 , -0.8556239 , ..., -0.74622   ,\n",
              "           5.738511  ,  4.6556683 ],\n",
              "         ...,\n",
              "         [ 1.9566345 , -1.2149076 , -0.987089  , ..., -0.78581685,\n",
              "           5.6825256 ,  4.7877574 ],\n",
              "         [ 1.9846731 , -1.2093303 , -0.94142735, ..., -0.7534993 ,\n",
              "           5.699684  ,  4.8854795 ],\n",
              "         [ 1.4390252 , -0.3931781 , -0.7856674 , ..., -0.03361051,\n",
              "           4.8417187 , 10.1800995 ]],\n",
              "\n",
              "        [[ 2.0214288 , -1.1789691 , -1.3172276 , ..., -0.37642312,\n",
              "           7.27404   ,  9.809053  ],\n",
              "         [ 2.594878  , -0.675712  , -1.3019868 , ..., -0.9657056 ,\n",
              "           2.443986  ,  3.682392  ],\n",
              "         [ 2.616006  , -0.6720295 , -1.2869139 , ..., -0.9690094 ,\n",
              "           2.268038  ,  3.3436859 ],\n",
              "         ...,\n",
              "         [ 3.029021  , -0.6358596 , -1.3511714 , ..., -0.84139484,\n",
              "           2.0520167 ,  3.585898  ],\n",
              "         [ 2.9779108 , -0.6417408 , -1.3375196 , ..., -0.83491033,\n",
              "           2.0479615 ,  3.7000108 ],\n",
              "         [ 0.9185202 ,  0.06250477, -1.8901453 , ..., -1.1183516 ,\n",
              "           1.0696366 ,  8.624021  ]],\n",
              "\n",
              "        [[ 1.7332184 , -1.23931   , -1.3580356 , ..., -0.3520578 ,\n",
              "           7.402835  , 10.021505  ],\n",
              "         [ 2.4537582 , -0.68315285, -1.3509277 , ..., -0.941271  ,\n",
              "           2.3576868 ,  3.767797  ],\n",
              "         [ 2.550653  , -0.66869664, -1.3240263 , ..., -0.95254844,\n",
              "           2.3457642 ,  3.4434948 ],\n",
              "         ...,\n",
              "         [ 2.381597  , -0.60589767, -1.1743902 , ..., -0.71453387,\n",
              "           2.2595677 ,  3.5680304 ],\n",
              "         [ 2.387486  , -0.60907847, -1.1512351 , ..., -0.6794278 ,\n",
              "           2.2799363 ,  3.7312055 ],\n",
              "         [ 0.37527013, -0.06300588, -1.7680719 , ..., -1.1065713 ,\n",
              "           1.4276153 ,  8.476715  ]],\n",
              "\n",
              "        ...,\n",
              "\n",
              "        [[-3.8268983 , -4.4081197 , -2.4892857 , ...,  0.8494204 ,\n",
              "          13.467741  , 17.341742  ],\n",
              "         [-3.094825  , -4.143767  , -3.5282414 , ...,  0.56608737,\n",
              "           9.673531  ,  9.693216  ],\n",
              "         [-3.034054  , -4.2942376 , -3.4938917 , ...,  0.97900563,\n",
              "           9.7997675 ,  9.28012   ],\n",
              "         ...,\n",
              "         [ 2.7001853 , -0.87531483, -1.355807  , ..., -0.96417755,\n",
              "           1.9659166 ,  3.5421016 ],\n",
              "         [ 2.6791987 , -0.88807315, -1.3245237 , ..., -0.92369246,\n",
              "           1.9503479 ,  3.6419072 ],\n",
              "         [ 0.92061645,  0.41932058, -1.8210987 , ..., -1.191173  ,\n",
              "           1.2480044 ,  9.029451  ]],\n",
              "\n",
              "        [[-4.8514566 , -3.557565  , -2.0139823 , ...,  0.97229135,\n",
              "          13.861945  , 16.47789   ],\n",
              "         [-3.7324557 , -2.901769  , -2.3541322 , ..., -0.45898333,\n",
              "          13.397953  ,  9.496125  ],\n",
              "         [-3.3544924 , -2.816154  , -2.2822056 , ..., -0.46759602,\n",
              "          13.408779  ,  8.904402  ],\n",
              "         ...,\n",
              "         [ 5.1845098 , -1.1776448 , -2.5375986 , ..., -0.8631641 ,\n",
              "           3.83607   ,  7.8901677 ],\n",
              "         [ 5.1544733 , -1.1865782 , -2.5236218 , ..., -0.81370276,\n",
              "           4.0361977 ,  8.1154785 ],\n",
              "         [ 3.2903671 ,  0.8987162 , -2.2218401 , ..., -0.7898306 ,\n",
              "           3.3223128 , 13.694303  ]],\n",
              "\n",
              "        [[ 9.602275  ,  8.970579  ,  2.1305766 , ..., -1.48229   ,\n",
              "           8.108591  , 10.287727  ],\n",
              "         [10.200448  , 11.497762  ,  0.23056182, ..., -2.1808918 ,\n",
              "           4.7822704 ,  4.275383  ],\n",
              "         [10.427008  , 11.148995  ,  0.28342566, ..., -2.1088455 ,\n",
              "           4.222792  ,  4.310393  ],\n",
              "         ...,\n",
              "         [10.712298  , -0.5484199 , -0.19365203, ..., -0.2718443 ,\n",
              "           3.316407  ,  8.589571  ],\n",
              "         [10.822948  , -0.5674555 , -0.1051926 , ..., -0.2881936 ,\n",
              "           3.3751836 ,  9.101636  ],\n",
              "         [15.281593  ,  1.9227961 ,  0.71021783, ..., -0.2948205 ,\n",
              "           4.3060203 , 14.404882  ]]]], dtype=float32)>"
            ]
          },
          "metadata": {
            "tags": []
          },
          "execution_count": 13
        }
      ]
    },
    {
      "cell_type": "markdown",
      "metadata": {
        "id": "OPiCWqaoMDz7",
        "colab_type": "text"
      },
      "source": [
        "#FINAL DISCRIMINATOR "
      ]
    },
    {
      "cell_type": "markdown",
      "metadata": {
        "id": "pw7CXriIMVMw",
        "colab_type": "text"
      },
      "source": [
        "##Discriminator concatenation"
      ]
    },
    {
      "cell_type": "code",
      "metadata": {
        "id": "FZEbIazfMYtJ",
        "colab_type": "code",
        "outputId": "644338d6-5f11-47e5-f2be-04663d863362",
        "colab": {
          "base_uri": "https://localhost:8080/",
          "height": 34
        }
      },
      "source": [
        "image_conv = discriminator_image(image_dataset)\n",
        "audio_conv = discriminator_audio(audioImage_dataSet)\n",
        "\n",
        "#print(image_conv[0,0,0,0])\n",
        "#print(audio_conv[0,0,0,0])\n",
        "\n",
        "\n",
        "concatenation = tf.concat([image_conv, audio_conv], axis=3)\n",
        "print(concatenation.shape)\n",
        "#print(concatenation[0,0,0,128])\n",
        "\n",
        "\n"
      ],
      "execution_count": 0,
      "outputs": [
        {
          "output_type": "stream",
          "text": [
            "(4, 28, 28, 256)\n"
          ],
          "name": "stdout"
        }
      ]
    },
    {
      "cell_type": "markdown",
      "metadata": {
        "id": "zbkE_CvRVuZg",
        "colab_type": "text"
      },
      "source": [
        "##Define FINAL Discriminator"
      ]
    },
    {
      "cell_type": "code",
      "metadata": {
        "id": "jBe10atbMRQX",
        "colab_type": "code",
        "colab": {}
      },
      "source": [
        "def Final_discriminator_model():\n",
        "    model = tf.keras.Sequential()\n",
        "    model.add(layers.Conv2D(64, (5, 5), strides=(2, 2), padding='same', input_shape=[28, 28, 256]))\n",
        "    model.add(layers.LeakyReLU())\n",
        "    model.add(layers.Dropout(0.3))\n",
        "\n",
        "    model.add(layers.Conv2D(128, (5, 5), strides=(2, 2), padding='same'))\n",
        "    model.add(layers.LeakyReLU())\n",
        "    model.add(layers.Dropout(0.3))\n",
        "\n",
        "    model.add(layers.Flatten())\n",
        "    model.add(layers.Dense(1))\n",
        "\n",
        "    return model"
      ],
      "execution_count": 0,
      "outputs": []
    },
    {
      "cell_type": "code",
      "metadata": {
        "id": "7e9QCCyRZjOW",
        "colab_type": "code",
        "outputId": "3e4c6420-5a53-4bfb-a6db-1bd348517050",
        "colab": {
          "base_uri": "https://localhost:8080/",
          "height": 34
        }
      },
      "source": [
        "final_discriminator = Final_discriminator_model()\n",
        "output = final_discriminator(concatenation)\n",
        "#print (output)\n",
        "#print(output.shape)\n",
        "\n",
        "BUFFER_SIZE = 60\n",
        "BATCH_SIZE = 256\n",
        "\n",
        "train_dataset = tf.data.Dataset.from_tensor_slices(concatenation).shuffle(BUFFER_SIZE).batch(BATCH_SIZE)\n",
        "print(train_dataset)\n",
        "\n"
      ],
      "execution_count": 0,
      "outputs": [
        {
          "output_type": "stream",
          "text": [
            "<BatchDataset shapes: (None, 28, 28, 256), types: tf.float32>\n"
          ],
          "name": "stdout"
        }
      ]
    },
    {
      "cell_type": "markdown",
      "metadata": {
        "id": "eht87STsVbhW",
        "colab_type": "text"
      },
      "source": [
        "# Define **Generator**"
      ]
    },
    {
      "cell_type": "code",
      "metadata": {
        "id": "VBFxOAI3U5Ew",
        "colab_type": "code",
        "outputId": "e2e6a4c2-8b7d-41c3-e8ed-022b7a819c31",
        "colab": {
          "base_uri": "https://localhost:8080/",
          "height": 34
        }
      },
      "source": [
        "import tensorflow as tf\n",
        "import keras\n",
        "from keras.layers import Input, Conv2D, MaxPooling2D, GlobalMaxPooling2D, GlobalAveragePooling2D\n",
        "from keras.layers import Concatenate, Dense, LSTM, Flatten, RepeatVector, TimeDistributed, Dropout\n",
        "from keras.models import Model\n",
        "from keras.optimizers import Adam\n",
        "from keras.layers import Bidirectional, GaussianNoise, BatchNormalization\n",
        "from keras.layers import CuDNNLSTM as LSTM"
      ],
      "execution_count": 0,
      "outputs": [
        {
          "output_type": "stream",
          "text": [
            "Using TensorFlow backend.\n"
          ],
          "name": "stderr"
        }
      ]
    },
    {
      "cell_type": "code",
      "metadata": {
        "id": "NzKOIh6dF9ah",
        "colab_type": "code",
        "outputId": "719f14da-cca1-4d5d-b1bd-a2f9f9185bae",
        "colab": {
          "base_uri": "https://localhost:8080/",
          "height": 34
        }
      },
      "source": [
        "# Generate to streams in the generator , de concatenation in the generator\n",
        "# upconv to (None, 28, 28, 256) and the split it in two streams inside \n",
        "# resphape an reconcate\n",
        "\n",
        "def make_generator_model():\n",
        "    model = tf.keras.Sequential()\n",
        "    model.add(layers.Dense(7*7*256, use_bias=False, input_shape=(100,)))\n",
        "    model.add(layers.BatchNormalization())\n",
        "    model.add(layers.LeakyReLU())\n",
        "\n",
        "    model.add(layers.Reshape((7, 7, 256)))\n",
        "    assert model.output_shape == (None, 7, 7, 256) # Note: None is the batch size\n",
        "\n",
        "    model.add(layers.Conv2DTranspose(128, (5, 5), strides=(1, 1), padding='same', use_bias=False))\n",
        "    assert model.output_shape == (None, 7, 7, 128)\n",
        "    model.add(layers.BatchNormalization())\n",
        "    model.add(layers.LeakyReLU())\n",
        "\n",
        "    model.add(layers.Conv2DTranspose(64, (5, 5), strides=(2, 2), padding='same', use_bias=False))\n",
        "    assert model.output_shape == (None, 14, 14, 64)\n",
        "    model.add(layers.BatchNormalization())\n",
        "    model.add(layers.LeakyReLU())\n",
        "\n",
        "    model.add(layers.Conv2DTranspose(256, (5, 5), strides=(2, 2), padding='same', use_bias=False, activation='tanh'))\n",
        "    assert model.output_shape == (None, 28, 28, 256)\n",
        "    \n",
        "  \n",
        "    #[ log phase - 224,224,2]\n",
        "    #[ rgb - 224,224,3]\n",
        "    \n",
        "    return model\n",
        "  \n",
        "  \n",
        "  \n",
        "\n",
        "  \n",
        "noise = tf.random.normal([1, 100])\n",
        "generator = make_generator_model()\n",
        "generated_image = generator(noise, training=False)\n",
        "\n",
        "\n",
        "generated_image.shape\n",
        "#plt.imshow(generated_image[0, :, :, 0])\n",
        "\n",
        "\n",
        "#audioTensor, imageTensor = deConcat(model)\n",
        "    \n",
        "  \n"
      ],
      "execution_count": 0,
      "outputs": [
        {
          "output_type": "execute_result",
          "data": {
            "text/plain": [
              "TensorShape([1, 28, 28, 256])"
            ]
          },
          "metadata": {
            "tags": []
          },
          "execution_count": 46
        }
      ]
    },
    {
      "cell_type": "markdown",
      "metadata": {
        "id": "x3eiuI7Dg8I5",
        "colab_type": "text"
      },
      "source": [
        "## Unwrapfunctions deConcat, deconvolutionAudio and Image"
      ]
    },
    {
      "cell_type": "code",
      "metadata": {
        "id": "eB-bUNbTg6jS",
        "colab_type": "code",
        "colab": {}
      },
      "source": [
        "\n",
        "def deConcat(model):\n",
        "   \n",
        "  deConcatedModelAudio = np.ones([28,28,128])\n",
        "  deConcatedModelImage = np.ones([28,28,128])\n",
        "  tensor = model\n",
        "  #print(tensor.dtype)\n",
        "  \n",
        "  split0, split1 = tf.split(tensor, num_or_size_splits=2, axis=3)\n",
        "  tf.shape(split0)\n",
        "  tf.shape(split1)\n",
        "\n",
        "  deConcatedModelAudio = split0\n",
        "  deConcatedModelImage = split1\n",
        "  \n",
        "  #print(deConcatedModelAudio)\n",
        "  #print(deConcatedModelImage)\n",
        "\n",
        "\n",
        "  return deConcatedModelAudio , deConcatedModelImage\n",
        "\n",
        "\n",
        "def deConvolution_Audio():\n",
        "    model = tf.keras.Sequential()\n",
        "    model.add(layers.Conv2D(64, (5, 5), strides=(2, 2), padding='same', input_shape=[28, 28, 128]))\n",
        "    model.add(layers.LeakyReLU())\n",
        "    model.add(layers.Dropout(0.3))\n",
        "    \n",
        "    model.add(layers.Conv2DTranspose(128, (5, 5), strides=(2, 2), padding='same', use_bias=False, activation='tanh'))\n",
        "    assert model.output_shape == (None, 28, 28, 128)\n",
        "    model.add(layers.BatchNormalization())\n",
        "    model.add(layers.LeakyReLU()) \n",
        "\n",
        "    model.add(layers.Conv2DTranspose(32, (5, 5), strides=(2, 2), padding='same', use_bias=False, activation='tanh'))\n",
        "    assert model.output_shape == (None, 56, 56, 32)\n",
        "    model.add(layers.BatchNormalization())\n",
        "    model.add(layers.LeakyReLU())\n",
        "    \n",
        "    model.add(layers.Conv2DTranspose(8, (5, 5), strides=(2, 2), padding='same', use_bias=False, activation='tanh'))\n",
        "    assert model.output_shape == (None, 112, 112, 8)\n",
        "    model.add(layers.BatchNormalization())\n",
        "    model.add(layers.LeakyReLU())    \n",
        "\n",
        "    model.add(layers.Conv2DTranspose(2, (5, 5), strides=(2, 2), padding='same', use_bias=False, activation='tanh'))\n",
        "    assert model.output_shape == (None, 224, 224, 2)\n",
        "\n",
        "    return model\n",
        "  \n",
        "ndarray = np.ones([4,28,28,128])\n",
        "#print(ndarray[1,1,1,1])\n",
        "ndarray = tf.cast(ndarray, 'float32')\n",
        "#print(ndarray.shape)\n",
        "deConvolution_Audio = deConvolution_Audio()\n",
        "deConvolution_Audio_Image = deConvolution_Audio(ndarray)\n",
        "#output.shape\n",
        "\n",
        "def deConvolution_Image():\n",
        "    model = tf.keras.Sequential()\n",
        "    model.add(layers.Conv2D(64, (5, 5), strides=(2, 2), padding='same', input_shape=[28, 28, 128]))\n",
        "    model.add(layers.LeakyReLU())\n",
        "    model.add(layers.Dropout(0.3))\n",
        "    \n",
        "    model.add(layers.Conv2DTranspose(128, (5, 5), strides=(2, 2), padding='same', use_bias=False, activation='tanh'))\n",
        "    assert model.output_shape == (None, 28, 28, 128)\n",
        "    model.add(layers.BatchNormalization())\n",
        "    model.add(layers.LeakyReLU()) \n",
        "\n",
        "    model.add(layers.Conv2DTranspose(32, (5, 5), strides=(2, 2), padding='same', use_bias=False, activation='tanh'))\n",
        "    assert model.output_shape == (None, 56, 56, 32)\n",
        "    model.add(layers.BatchNormalization())\n",
        "    model.add(layers.LeakyReLU())\n",
        "    \n",
        "    model.add(layers.Conv2DTranspose(8, (5, 5), strides=(2, 2), padding='same', use_bias=False, activation='tanh'))\n",
        "    assert model.output_shape == (None, 112, 112, 8)\n",
        "    model.add(layers.BatchNormalization())\n",
        "    model.add(layers.LeakyReLU())    \n",
        "\n",
        "    model.add(layers.Conv2DTranspose(3, (5, 5), strides=(2, 2), padding='same', use_bias=False, activation='tanh'))\n",
        "    assert model.output_shape == (None, 224, 224, 3)\n",
        "    \n",
        "    return model\n",
        "  \n",
        "ndarray = np.ones([4,28,28,128])\n",
        "#print(ndarray[1,1,1,1])\n",
        "ndarray = tf.cast(ndarray, 'float32')\n",
        "#print(ndarray.shape)\n",
        "deConvolution_Image = deConvolution_Image()\n",
        "deConvolution_Image_Image = deConvolution_Image(ndarray)\n",
        "#output.shape\n",
        " "
      ],
      "execution_count": 0,
      "outputs": []
    },
    {
      "cell_type": "markdown",
      "metadata": {
        "id": "eDnpMkjSVz25",
        "colab_type": "text"
      },
      "source": [
        "#Training Functions"
      ]
    },
    {
      "cell_type": "code",
      "metadata": {
        "id": "NAvPL3XfDxjx",
        "colab_type": "code",
        "colab": {}
      },
      "source": [
        "noise_dim = 100\n",
        "num_examples_to_generate = 1\n",
        "#decision = Final_discriminator_model(generated_image)\n",
        "#print (decision)\n",
        "\n",
        "# This method returns a helper function to compute cross entropy loss\n",
        "cross_entropy = tf.keras.losses.BinaryCrossentropy(from_logits=True)\n",
        "\n",
        "\n",
        "\n",
        "def discriminator_loss(real_output, fake_output):\n",
        "    real_loss = cross_entropy(tf.ones_like(real_output), real_output)\n",
        "    fake_loss = cross_entropy(tf.zeros_like(fake_output), fake_output)\n",
        "    total_loss = real_loss + fake_loss\n",
        "    return total_loss\n",
        "  \n",
        "def generator_loss(fake_output):\n",
        "    return cross_entropy(tf.ones_like(fake_output), fake_output)\n",
        "  \n",
        "generator_optimizer = tf.keras.optimizers.Adam(1e-4)\n",
        "discriminator_optimizer = tf.keras.optimizers.Adam(1e-4)\n",
        "\n",
        "\n",
        "checkpoint_dir = './training_checkpoints'\n",
        "checkpoint_prefix = os.path.join(checkpoint_dir, \"ckpt\")\n",
        "checkpoint = tf.train.Checkpoint(generator_optimizer=generator_optimizer,\n",
        "                                 discriminator_optimizer=discriminator_optimizer,\n",
        "                                 generator=generator,\n",
        "                                 discriminator=final_discriminator)\n",
        "\n",
        "\n",
        "\n",
        "# We will reuse this seed overtime (so it's easier)\n",
        "# to visualize progress in the animated GIF)\n",
        "seed = tf.random.normal([num_examples_to_generate, noise_dim])\n",
        "\n",
        "# Notice the use of `tf.function`\n",
        "# This annotation causes the function to be \"compiled\".\n",
        "@tf.function\n",
        "def train_step(images):\n",
        "    noise = tf.random.normal([BATCH_SIZE, noise_dim])\n",
        "    print('Training_Step')\n",
        "    with tf.GradientTape() as gen_tape, tf.GradientTape() as disc_tape:\n",
        "      generated_images = generator(noise, training=True)\n",
        "\n",
        "      real_output = final_discriminator(images, training=True)\n",
        "      fake_output = final_discriminator(generated_images, training=True)\n",
        "\n",
        "      gen_loss = generator_loss(fake_output)\n",
        "      disc_loss = discriminator_loss(real_output, fake_output)\n",
        "\n",
        "    gradients_of_generator = gen_tape.gradient(gen_loss, generator.trainable_variables)\n",
        "    gradients_of_discriminator = disc_tape.gradient(disc_loss, final_discriminator.trainable_variables)\n",
        "\n",
        "    generator_optimizer.apply_gradients(zip(gradients_of_generator, generator.trainable_variables))\n",
        "    discriminator_optimizer.apply_gradients(zip(gradients_of_discriminator, final_discriminator.trainable_variables))\n",
        "    \n",
        "    \n",
        "def train(dataset, epochs):\n",
        "  print('Training_Started')\n",
        "  for epoch in range(epochs):\n",
        "    start = time.time()\n",
        "\n",
        "    for image_batch in dataset:\n",
        "      train_step(image_batch)\n",
        "\n",
        "    # Produce images for the GIF as we go\n",
        "    display.clear_output(wait=True)\n",
        "    generate_and_save_images(generator,\n",
        "                             epoch + 1,\n",
        "                             seed)\n",
        "\n",
        "    # Save the model every 15 epochs\n",
        "    if (epoch + 1) % 500 == 0:\n",
        "      checkpoint.save(file_prefix = checkpoint_prefix)\n",
        "\n",
        "    print ('Time for epoch {} is {} sec'.format(epoch + 1, time.time()-start))\n",
        "\n",
        "  # Generate after the final epoch\n",
        "  display.clear_output(wait=True)\n",
        "  generate_and_save_images(generator, epochs, seed)\n",
        "  \n",
        "\n",
        "\n",
        "\n"
      ],
      "execution_count": 0,
      "outputs": []
    },
    {
      "cell_type": "markdown",
      "metadata": {
        "id": "NowuHDW0V_jG",
        "colab_type": "text"
      },
      "source": [
        "##Save training output"
      ]
    },
    {
      "cell_type": "code",
      "metadata": {
        "id": "xrxmGJYBWBbv",
        "colab_type": "code",
        "colab": {}
      },
      "source": [
        "#PUFFER IMAGE EXTERN???  \n",
        "#pufferImg = np.ndarray((224,224,3))\n",
        "\n",
        "# ATTENTION: NOT SURE ABOUT [0,:,:,:] -> what does the 0 do ????\n",
        "\n",
        "from matplotlib.pyplot import figure, imshow, axis\n",
        "from matplotlib.image import imread\n",
        "\n",
        "def generate_and_save_images(model, epoch, test_input):\n",
        "  print('Generate_and_save')\n",
        "  # Notice `training` is set to False.\n",
        "  # This is so all layers run in inference mode (batchnorm).\n",
        "  predictions = model(test_input, training=False)\n",
        "  #print(predictions.shape)\n",
        "  \n",
        "  \n",
        "  # CONCAT CONVOL\n",
        "  \n",
        "  audio_model, image_model = deConcat(predictions)\n",
        "  \n",
        "  #print(audio_model.shape, image_model.shape)\n",
        "  \n",
        "  audio_output = deConvolution_Audio(audio_model)\n",
        "  image_output = deConvolution_Image(image_model)\n",
        "  \n",
        "  #print('audio_output',audio_output.shape,'image_output',image_output.shape)\n",
        "  \n",
        "  \n",
        "  #print(image_output[0,0,0,0])\n",
        "  \n",
        "  pufferImg = np.ndarray((224,224,3))\n",
        "  pufferImg = image_output[0,:,:,:] #* 127.5 + 127.5 / 256\n",
        "  \n",
        "  #print(pufferImg[0,0,0])\n",
        "\n",
        "  pufferPhase = np.ndarray((224,224))\n",
        "  pufferPhase = audio_output[0,:,:,0] * 127.5 + 127.5\n",
        "  \n",
        "  pufferLog = np.ndarray((224,224))\n",
        "  pufferLog = audio_output[0,:,:,1] * 127.5 + 127.5\n",
        "  \n",
        "  \n",
        "  \n",
        "  \n",
        "  \n",
        "  plot_size = 4\n",
        "  \n",
        "  \n",
        "  # IMAGE    \n",
        "  plt.figure(figsize=(plot_size,plot_size))\n",
        "  plt.title('RGB-Image')\n",
        "  plt.imshow((pufferImg))\n",
        "  plt.axis('off')\n",
        "  #plt.savefig('./image_output/image_at_epoch_{:04d}.png'.format(epoch))\n",
        "    \n",
        "    \n",
        "  # AUDIO\n",
        "  ## PHASE\n",
        "  plt.figure(figsize=(plot_size,plot_size))\n",
        "  plt.title('PHASE-IMAGE')  \n",
        "  plt.imshow(pufferPhase, cmap='gray')\n",
        "  plt.axis('off')\n",
        "  #plt.savefig('./audio_output/phase_at_epoch_{:04d}.png'.format(epoch))\n",
        "\n",
        "  ## LOG_MAGNITUDE\n",
        "  plt.figure(figsize=(plot_size,plot_size))\n",
        "  plt.title('LOG-IMAGE')\n",
        "  plt.imshow(pufferLog, cmap='gray')\n",
        "  plt.axis('off')\n",
        "  #plt.savefig('./audio_output/log_at_epoch_{:04d}.png'.format(epoch))\n",
        "  \n",
        "  \n",
        "  plt.show()\n",
        "  "
      ],
      "execution_count": 0,
      "outputs": []
    },
    {
      "cell_type": "markdown",
      "metadata": {
        "id": "EXxd39OBZpMz",
        "colab_type": "text"
      },
      "source": [
        "#TRAINING"
      ]
    },
    {
      "cell_type": "code",
      "metadata": {
        "id": "x_9zCt4O1OEU",
        "colab_type": "code",
        "colab": {}
      },
      "source": [
        "EPOCHS = 1000"
      ],
      "execution_count": 0,
      "outputs": []
    },
    {
      "cell_type": "code",
      "metadata": {
        "id": "a8nria5Uvfov",
        "colab_type": "code",
        "outputId": "1b0353d1-7acf-4bde-9c3f-ff70a4471749",
        "colab": {
          "base_uri": "https://localhost:8080/",
          "height": 335
        }
      },
      "source": [
        "%%time\n",
        "train(train_dataset, EPOCHS)"
      ],
      "execution_count": 0,
      "outputs": [
        {
          "output_type": "stream",
          "text": [
            "Generate_and_save\n"
          ],
          "name": "stdout"
        },
        {
          "output_type": "stream",
          "text": [
            "W0724 08:54:14.736622 139719329122176 image.py:648] Clipping input data to the valid range for imshow with RGB data ([0..1] for floats or [0..255] for integers).\n"
          ],
          "name": "stderr"
        },
        {
          "output_type": "display_data",
          "data": {
            "image/png": "[encoded data removed]",
            "text/plain": [
              "<Figure size 288x288 with 1 Axes>"
            ]
          },
          "metadata": {
            "tags": []
          }
        }
      ]
    },
    {
      "cell_type": "markdown",
      "metadata": {
        "id": "EP6YusEjlBdz",
        "colab_type": "text"
      },
      "source": [
        "#After training"
      ]
    },
    {
      "cell_type": "code",
      "metadata": {
        "id": "g7AyiTrBBoaH",
        "colab_type": "code",
        "outputId": "64e39f01-a11a-4546-9ea9-f0d30feae940",
        "colab": {
          "base_uri": "https://localhost:8080/",
          "height": 34
        }
      },
      "source": [
        "checkpoint.restore(tf.train.latest_checkpoint(checkpoint_dir))"
      ],
      "execution_count": 0,
      "outputs": [
        {
          "output_type": "execute_result",
          "data": {
            "text/plain": [
              "<tensorflow.python.training.tracking.util.CheckpointLoadStatus at 0x7f068333b3c8>"
            ]
          },
          "metadata": {
            "tags": []
          },
          "execution_count": 63
        }
      ]
    },
    {
      "cell_type": "code",
      "metadata": {
        "id": "qsUYXWKRZ3Aa",
        "colab_type": "code",
        "colab": {}
      },
      "source": [
        "# Display a single image using the epoch number\n",
        "def display_image(epoch_no):\n",
        "  return PIL.Image.open('TrainedImages/image_at_epoch_{:04d}.png'.format(epoch_no))"
      ],
      "execution_count": 0,
      "outputs": []
    },
    {
      "cell_type": "code",
      "metadata": {
        "id": "Gk0nlFbvZ3sY",
        "colab_type": "code",
        "colab": {}
      },
      "source": [
        "anim_file = 'AVGAN.gif'\n",
        "\n",
        "with imageio.get_writer(anim_file, mode='I') as writer:\n",
        "  #filenames = glob.glob('image*.png')\n",
        "  filenames = glob.glob('./image_output/image*.png')\n",
        "  #filenames = glob.glob('./audio_output/log*.png')\n",
        "  #filenames = glob.glob('./audio_output/phase*.png')\n",
        "  \n",
        "  filenames = sorted(filenames)\n",
        "  last = -1\n",
        "  for i,filename in enumerate(filenames):\n",
        "    frame = 2*(i**0.5)\n",
        "    if round(frame) > round(last):\n",
        "      last = frame\n",
        "    else:\n",
        "      continue\n",
        "    image = imageio.imread(filename)\n",
        "    writer.append_data(image)\n",
        "  image = imageio.imread(filename)\n",
        "  writer.append_data(image)\n",
        "\n",
        "import IPython\n",
        "if IPython.version_info > (6,2,0,''):\n",
        "  display.Image(filename=anim_file)"
      ],
      "execution_count": 0,
      "outputs": []
    },
    {
      "cell_type": "code",
      "metadata": {
        "id": "WenctI1EZ726",
        "colab_type": "code",
        "colab": {}
      },
      "source": [
        "try:\n",
        "  from google.colab import files\n",
        "except ImportError:\n",
        "  pass\n",
        "else:\n",
        "  files.download(anim_file)"
      ],
      "execution_count": 0,
      "outputs": []
    }
  ]
}