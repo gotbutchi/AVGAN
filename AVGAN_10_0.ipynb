{
  "nbformat": 4,
  "nbformat_minor": 0,
  "metadata": {
    "colab": {
      "name": "AVGAN_10.0.ipynb",
      "version": "0.3.2",
      "provenance": [],
      "collapsed_sections": [],
      "include_colab_link": true
    },
    "kernelspec": {
      "name": "python3",
      "display_name": "Python 3"
    },
    "accelerator": "GPU"
  },
  "cells": [
    {
      "cell_type": "markdown",
      "metadata": {
        "id": "view-in-github",
        "colab_type": "text"
      },
      "source": [
        "<a href=\"https://colab.research.google.com/github/markus-weiss/AVGAN/blob/master/AVGAN_10_0.ipynb\" target=\"_parent\"><img src=\"https://colab.research.google.com/assets/colab-badge.svg\" alt=\"Open In Colab\"/></a>"
      ]
    },
    {
      "cell_type": "markdown",
      "metadata": {
        "id": "uIU0UWOS7wRl",
        "colab_type": "text"
      },
      "source": [
        "#Install and connect"
      ]
    },
    {
      "cell_type": "code",
      "metadata": {
        "id": "WesD-qWz7vON",
        "colab_type": "code",
        "outputId": "5e67eea0-6a8a-4c86-aa3d-02b02fd4192a",
        "colab": {
          "base_uri": "https://localhost:8080/",
          "height": 625
        }
      },
      "source": [
        "!pip install tensorflow-gpu==2.0.0-beta0\n",
        "!pip install imageio"
      ],
      "execution_count": 0,
      "outputs": [
        {
          "output_type": "stream",
          "text": [
            "Collecting tensorflow-gpu==2.0.0-beta0\n",
            "\u001b[?25l  Downloading https://files.pythonhosted.org/packages/e8/7e/87c4c94686cda7066f52cbca4c344248516490acdd6b258ec6b8a805d956/tensorflow_gpu-2.0.0b0-cp36-cp36m-manylinux1_x86_64.whl (348.8MB)\n",
            "\u001b[K     |████████████████████████████████| 348.9MB 66kB/s \n",
            "\u001b[?25hRequirement already satisfied: grpcio>=1.8.6 in /usr/local/lib/python3.6/dist-packages (from tensorflow-gpu==2.0.0-beta0) (1.15.0)\n",
            "Requirement already satisfied: keras-preprocessing>=1.0.5 in /usr/local/lib/python3.6/dist-packages (from tensorflow-gpu==2.0.0-beta0) (1.1.0)\n",
            "Requirement already satisfied: termcolor>=1.1.0 in /usr/local/lib/python3.6/dist-packages (from tensorflow-gpu==2.0.0-beta0) (1.1.0)\n",
            "Requirement already satisfied: gast>=0.2.0 in /usr/local/lib/python3.6/dist-packages (from tensorflow-gpu==2.0.0-beta0) (0.2.2)\n",
            "Requirement already satisfied: wrapt>=1.11.1 in /usr/local/lib/python3.6/dist-packages (from tensorflow-gpu==2.0.0-beta0) (1.11.2)\n",
            "Requirement already satisfied: keras-applications>=1.0.6 in /usr/local/lib/python3.6/dist-packages (from tensorflow-gpu==2.0.0-beta0) (1.0.8)\n",
            "Requirement already satisfied: six>=1.10.0 in /usr/local/lib/python3.6/dist-packages (from tensorflow-gpu==2.0.0-beta0) (1.12.0)\n",
            "Collecting tb-nightly<1.14.0a20190604,>=1.14.0a20190603 (from tensorflow-gpu==2.0.0-beta0)\n",
            "\u001b[?25l  Downloading https://files.pythonhosted.org/packages/a4/96/571b875cd81dda9d5dfa1422a4f9d749e67c0a8d4f4f0b33a4e5f5f35e27/tb_nightly-1.14.0a20190603-py3-none-any.whl (3.1MB)\n",
            "\u001b[K     |████████████████████████████████| 3.1MB 43.0MB/s \n",
            "\u001b[?25hRequirement already satisfied: wheel>=0.26 in /usr/local/lib/python3.6/dist-packages (from tensorflow-gpu==2.0.0-beta0) (0.33.4)\n",
            "Requirement already satisfied: numpy<2.0,>=1.14.5 in /usr/local/lib/python3.6/dist-packages (from tensorflow-gpu==2.0.0-beta0) (1.16.4)\n",
            "Requirement already satisfied: google-pasta>=0.1.6 in /usr/local/lib/python3.6/dist-packages (from tensorflow-gpu==2.0.0-beta0) (0.1.7)\n",
            "Requirement already satisfied: astor>=0.6.0 in /usr/local/lib/python3.6/dist-packages (from tensorflow-gpu==2.0.0-beta0) (0.8.0)\n",
            "Collecting tf-estimator-nightly<1.14.0.dev2019060502,>=1.14.0.dev2019060501 (from tensorflow-gpu==2.0.0-beta0)\n",
            "\u001b[?25l  Downloading https://files.pythonhosted.org/packages/32/dd/99c47dd007dcf10d63fd895611b063732646f23059c618a373e85019eb0e/tf_estimator_nightly-1.14.0.dev2019060501-py2.py3-none-any.whl (496kB)\n",
            "\u001b[K     |████████████████████████████████| 501kB 45.6MB/s \n",
            "\u001b[?25hRequirement already satisfied: absl-py>=0.7.0 in /usr/local/lib/python3.6/dist-packages (from tensorflow-gpu==2.0.0-beta0) (0.7.1)\n",
            "Requirement already satisfied: protobuf>=3.6.1 in /usr/local/lib/python3.6/dist-packages (from tensorflow-gpu==2.0.0-beta0) (3.7.1)\n",
            "Requirement already satisfied: h5py in /usr/local/lib/python3.6/dist-packages (from keras-applications>=1.0.6->tensorflow-gpu==2.0.0-beta0) (2.8.0)\n",
            "Requirement already satisfied: werkzeug>=0.11.15 in /usr/local/lib/python3.6/dist-packages (from tb-nightly<1.14.0a20190604,>=1.14.0a20190603->tensorflow-gpu==2.0.0-beta0) (0.15.5)\n",
            "Requirement already satisfied: markdown>=2.6.8 in /usr/local/lib/python3.6/dist-packages (from tb-nightly<1.14.0a20190604,>=1.14.0a20190603->tensorflow-gpu==2.0.0-beta0) (3.1.1)\n",
            "Requirement already satisfied: setuptools>=41.0.0 in /usr/local/lib/python3.6/dist-packages (from tb-nightly<1.14.0a20190604,>=1.14.0a20190603->tensorflow-gpu==2.0.0-beta0) (41.0.1)\n",
            "Installing collected packages: tb-nightly, tf-estimator-nightly, tensorflow-gpu\n",
            "Successfully installed tb-nightly-1.14.0a20190603 tensorflow-gpu-2.0.0b0 tf-estimator-nightly-1.14.0.dev2019060501\n",
            "Requirement already satisfied: imageio in /usr/local/lib/python3.6/dist-packages (2.4.1)\n",
            "Requirement already satisfied: numpy in /usr/local/lib/python3.6/dist-packages (from imageio) (1.16.4)\n",
            "Requirement already satisfied: pillow in /usr/local/lib/python3.6/dist-packages (from imageio) (4.3.0)\n",
            "Requirement already satisfied: olefile in /usr/local/lib/python3.6/dist-packages (from pillow->imageio) (0.46)\n"
          ],
          "name": "stdout"
        }
      ]
    },
    {
      "cell_type": "code",
      "metadata": {
        "id": "5UDUgtD671pf",
        "colab_type": "code",
        "outputId": "dbad4a16-e215-450e-af07-53836138022b",
        "colab": {
          "base_uri": "https://localhost:8080/",
          "height": 129
        }
      },
      "source": [
        "from google.colab import drive\n",
        "drive.mount('/content/drive')"
      ],
      "execution_count": 0,
      "outputs": [
        {
          "output_type": "stream",
          "text": [
            "Go to this URL in a browser: https://accounts.google.com/o/oauth2/auth?client_id=947318989803-6bn6qk8qdgf4n4g3pfee6491hc0brc4i.apps.googleusercontent.com&redirect_uri=urn%3Aietf%3Awg%3Aoauth%3A2.0%3Aoob&scope=email%20https%3A%2F%2Fwww.googleapis.com%2Fauth%2Fdocs.test%20https%3A%2F%2Fwww.googleapis.com%2Fauth%2Fdrive%20https%3A%2F%2Fwww.googleapis.com%2Fauth%2Fdrive.photos.readonly%20https%3A%2F%2Fwww.googleapis.com%2Fauth%2Fpeopleapi.readonly&response_type=code\n",
            "\n",
            "Enter your authorization code:\n",
            "··········\n",
            "Mounted at /content/drive\n"
          ],
          "name": "stdout"
        }
      ]
    },
    {
      "cell_type": "code",
      "metadata": {
        "id": "oxBxHWDP73so",
        "colab_type": "code",
        "outputId": "e62badf8-59fb-4014-eddb-9235beb25e77",
        "colab": {
          "base_uri": "https://localhost:8080/",
          "height": 35
        }
      },
      "source": [
        "# Change Directory to your Script\n",
        "cd /content/drive/My Drive/Colab Notebooks/AVGAN/"
      ],
      "execution_count": 0,
      "outputs": [
        {
          "output_type": "stream",
          "text": [
            "/content/drive/My Drive/Colab Notebooks/AVGAN\n"
          ],
          "name": "stdout"
        }
      ]
    },
    {
      "cell_type": "code",
      "metadata": {
        "id": "3R_B5CimIev_",
        "colab_type": "code",
        "outputId": "4abf7663-7f09-428a-f7e8-06709f8649d4",
        "colab": {
          "base_uri": "https://localhost:8080/",
          "height": 90
        }
      },
      "source": [
        "!ls\n"
      ],
      "execution_count": 0,
      "outputs": [
        {
          "output_type": "stream",
          "text": [
            "audio_input\t       complete_output_at_0001.png  image_input_3\n",
            "audio_output\t       _GIF_OUTPUT\t\t    image_output\n",
            "_AVGAN_1-3TrainResult  image_at_epoch_0001.png\t    training_checkpoints\n",
            "_AVGAN_Versions        image_input\n"
          ],
          "name": "stdout"
        }
      ]
    },
    {
      "cell_type": "markdown",
      "metadata": {
        "id": "9LogtHI48BUD",
        "colab_type": "text"
      },
      "source": [
        "#Imports"
      ]
    },
    {
      "cell_type": "code",
      "metadata": {
        "id": "OtMoZBa_8C-7",
        "colab_type": "code",
        "outputId": "0a135eac-c908-4aef-bc6f-34e9ef9703c4",
        "colab": {
          "base_uri": "https://localhost:8080/",
          "height": 35
        }
      },
      "source": [
        "import tensorflow as tf\n",
        "tf.__version__\n",
        "\n",
        "import keras\n",
        "from keras.layers import Input, Conv2D, MaxPooling2D, GlobalMaxPooling2D, GlobalAveragePooling2D\n",
        "from keras.layers import Concatenate, Dense, LSTM, Flatten, RepeatVector, TimeDistributed, Dropout\n",
        "from keras.models import Model\n",
        "from keras.optimizers import Adam\n",
        "from keras.layers import Bidirectional, GaussianNoise, BatchNormalization\n",
        "from keras.layers import CuDNNLSTM as LSTM\n",
        "\n",
        "\n",
        "import glob\n",
        "import imageio\n",
        "import matplotlib.pyplot as plt\n",
        "import numpy as np\n",
        "import os\n",
        "import PIL\n",
        "from tensorflow.keras import layers\n",
        "import time\n",
        "import matplotlib.image as mpimg\n",
        "from IPython import display\n",
        "import cv2"
      ],
      "execution_count": 0,
      "outputs": [
        {
          "output_type": "stream",
          "text": [
            "Using TensorFlow backend.\n"
          ],
          "name": "stderr"
        }
      ]
    },
    {
      "cell_type": "markdown",
      "metadata": {
        "id": "dICXrcy-yopT",
        "colab_type": "text"
      },
      "source": [
        "#DATA READIN\n"
      ]
    },
    {
      "cell_type": "markdown",
      "metadata": {
        "id": "HJeowl74H4-L",
        "colab_type": "text"
      },
      "source": [
        "##Audio ReadIn"
      ]
    },
    {
      "cell_type": "code",
      "metadata": {
        "id": "yDi2SY1gyoUL",
        "colab_type": "code",
        "outputId": "deabf788-01bc-41e5-f930-65ca6c5c0939",
        "colab": {
          "base_uri": "https://localhost:8080/",
          "height": 35
        }
      },
      "source": [
        "def getListOfFiles(dirName):\n",
        "  # create a list of file and sub directories \n",
        "  # names in the given directory \n",
        "  listOfFile = os.listdir(dirName)\n",
        "  allFiles = list()\n",
        "  # Iterate over all the entries\n",
        "  for entry in listOfFile:\n",
        "      # Create full path\n",
        "      fullPath = os.path.join(dirName, entry)\n",
        "      # If entry is a directory then get the list of files in this directory \n",
        "      if os.path.isdir(fullPath):\n",
        "          allFiles = allFiles + getListOfFiles(fullPath)\n",
        "      else:\n",
        "          allFiles.append(fullPath)\n",
        "\n",
        "  return allFiles\n",
        "  \n",
        "  \n",
        "# Not stable is pre alpha cause when the pictures not directly inumeratet \n",
        "# [102. 150. 102.   3.] this output is not good but if you print out the data concat read in you find the error but why\n",
        "# for item in audioList:\n",
        "#  print(item)\n",
        "\n",
        "\n",
        "def rgb2gray(rgb):\n",
        "    return np.dot(rgb[...,:3], [0.299, 0.587, 0.114])\n",
        "\n",
        "  \n",
        "def From6to2Dimensions(log):\n",
        "   \n",
        "  log = rgb2gray(log) \n",
        "  #phase = rgb2gray(phase) \n",
        "\n",
        "  reshapeAudioImage = np.ndarray((224,224,1))\n",
        "  reshapeAudioImage[:,:,0] = log[:,:]\n",
        "  #reshapeAudioImage[:,:,1] = phase[:,:]\n",
        "  \n",
        "  return reshapeAudioImage\n",
        "  \n",
        "\n",
        "\n",
        "\n",
        "def ConcatAllPairsInFolder(audiolist):\n",
        "  n = 1\n",
        "  concatAudioImage = [1 for i in range(len(audioList))]\n",
        "  for item in audioList:\n",
        "\n",
        "    #import re\n",
        "    #r = re.compile('.*_' + str(n) +'.jpg')\n",
        "    #pair = list(filter(r.match, audioList)) # Read Note\n",
        "    #print(pair[0],\" \",pair[1])\n",
        "    #☺print(len(pair))\n",
        "    \n",
        "\n",
        "    import cv2 \n",
        "    log     = cv2.imread(audiolist[1])  \n",
        "    #phase   = cv2.imread(pair[1])\n",
        "    #import tensorflow as tf\n",
        "    # dimension 2 IS RIGHT ????\n",
        "    #LogPhaseCon = tf.concat([log, phase],2)\n",
        "    #print(LogPhaseCon.shape)\n",
        "\n",
        "    concatAudioImage[n-1] = From6to2Dimensions(log)\n",
        "   # print(np.shape(concatAudioImage[n-1]))\n",
        "\n",
        "\n",
        "    if n >= len(audioList)/2:\n",
        "      return concatAudioImage\n",
        "      break\n",
        "    else:\n",
        "      n=n+1\n",
        "      \n",
        "\n",
        "\n",
        "def ConvertToTensor(concatImageAudioList, audioimageCount):\n",
        "  import numpy as np\n",
        "  ndarray = np.ones([audioimageCount,224,224,1])\n",
        "  \n",
        "  # Convert color to grey 6 - 2 channel\n",
        "\n",
        "  ndarray[0,:,:,:] = concatImageAudioList[0]\n",
        "\n",
        "  n=0\n",
        "  ndarray[n,:,:,:] = concatImageAudioList[n]\n",
        "\n",
        "\n",
        "  tensor = tf.add(ndarray, 1)\n",
        "\n",
        "\n",
        "  return tf.convert_to_tensor(ndarray, np.float32)\n",
        "\n",
        "\n",
        "\n",
        "audioFolder = 'audio_input/'\n",
        "audioList = getListOfFiles(audioFolder)\n",
        "#print(audioList[0])\n",
        "concatImageAudioList = ConcatAllPairsInFolder(audioList)\n",
        "#print(concatImageAudioList)\n",
        "audioimageCount = 1\n",
        "audio_dataset = ConvertToTensor(concatImageAudioList,audioimageCount)\n",
        "\n",
        "print(audio_dataset.shape)\n"
      ],
      "execution_count": 0,
      "outputs": [
        {
          "output_type": "stream",
          "text": [
            "(1, 224, 224, 1)\n"
          ],
          "name": "stdout"
        }
      ]
    },
    {
      "cell_type": "markdown",
      "metadata": {
        "id": "pC9nJORJH8Un",
        "colab_type": "text"
      },
      "source": [
        "##Image ReadIN\n"
      ]
    },
    {
      "cell_type": "code",
      "metadata": {
        "id": "WIhqo23wH4ws",
        "colab_type": "code",
        "outputId": "15b0a2ed-3aee-441f-8929-d7c0cbea300c",
        "colab": {
          "base_uri": "https://localhost:8080/",
          "height": 54
        }
      },
      "source": [
        "def GetListOfFiles(dirName):\n",
        "  # create a list of file and sub directories \n",
        "  # names in the given directory \n",
        "  listOfFile = os.listdir(dirName)\n",
        "  allFiles = list()\n",
        "  # Iterate over all the entries\n",
        "  for entry in listOfFile:\n",
        "      # Create full path\n",
        "      fullPath = os.path.join(dirName, entry)\n",
        "      # If entry is a directory then get the list of files in this directory \n",
        "      if os.path.isdir(fullPath):\n",
        "          allFiles = allFiles + getListOfFiles(fullPath)\n",
        "      else:\n",
        "          allFiles.append(fullPath)\n",
        "\n",
        "  return allFiles\n",
        "\n",
        "def ImageReadIn(image_list):\n",
        "  image_array = [1,600,800,3]\n",
        "  import cv2 \n",
        "  image = cv2.imread(image_list[0])\n",
        "  reshaped_image = rgb2gray(image)\n",
        "  image_array = reshaped_image\n",
        "  return image_array\n",
        "\n",
        "def ConvertToTensor(image_list, image_count):\n",
        "  import numpy as np\n",
        "  ndarray = np.ones([image_count,600,800,1])\n",
        "  ndarray[0,:,:,0] = image_list[:,:]\n",
        "\n",
        "\n",
        "  # TO CHECK THAT THE DATA IS RIGHT\n",
        "  #print(ndarray[:,0,0,0])\n",
        "\n",
        "  # CONVERT A NUMPY ARRAY TO A TENSOR\n",
        "  img_tensor = tf.add(ndarray, 1)\n",
        "  print(img_tensor.shape)\n",
        "  tensor_reshape = tf.image.resize(img_tensor, [224, 224])\n",
        "\n",
        "  return tf.convert_to_tensor(tensor_reshape, np.float32)\n",
        "\n",
        "\n",
        "  \n",
        "image_data_root = \"image_input_3/\"\n",
        "image_list = GetListOfFiles(image_data_root)\n",
        "image_data_array = ImageReadIn(image_list)\n",
        "#print(image_data_array.shape)\n",
        "image_count = 1\n",
        "\n",
        "image_dataset = ConvertToTensor(image_data_array,image_count)\n",
        "\n",
        "print(image_dataset.shape)\n",
        "\n",
        "\n"
      ],
      "execution_count": 0,
      "outputs": [
        {
          "output_type": "stream",
          "text": [
            "(1, 600, 800, 1)\n",
            "(1, 224, 224, 1)\n"
          ],
          "name": "stdout"
        }
      ]
    },
    {
      "cell_type": "markdown",
      "metadata": {
        "id": "jZ-kqv347iWj",
        "colab_type": "text"
      },
      "source": [
        "#Generator\n"
      ]
    },
    {
      "cell_type": "code",
      "metadata": {
        "id": "aESAuTJ_7fnt",
        "colab_type": "code",
        "outputId": "f60e4eb8-0449-4a48-84c1-edd206ab0008",
        "colab": {
          "base_uri": "https://localhost:8080/",
          "height": 35
        }
      },
      "source": [
        "# Generate to streams in the generator , de concatenation in the generator\n",
        "# upconv to (None, 28, 28, 256) and the split it in two streams inside \n",
        "# resphape an reconcate\n",
        "\n",
        "def make_generator_model():\n",
        "    model = tf.keras.Sequential()\n",
        "    model.add(layers.Dense(7*7*128, use_bias=False, input_shape=(6272,)))\n",
        "    model.add(layers.BatchNormalization())\n",
        "    model.add(layers.LeakyReLU())\n",
        "\n",
        "    model.add(layers.Reshape((7, 7, 128)))\n",
        "    assert model.output_shape == (None, 7, 7, 128) # Note: None is the batch size\n",
        "\n",
        "    model.add(layers.Conv2DTranspose(128, (5, 5), strides=(1, 1), padding='same', use_bias=False))\n",
        "    assert model.output_shape == (None, 7, 7, 128)\n",
        "    model.add(layers.BatchNormalization())\n",
        "    model.add(layers.LeakyReLU())\n",
        "\n",
        "    model.add(layers.Conv2DTranspose(128, (5, 5), strides=(2, 2), padding='same', use_bias=False))\n",
        "    assert model.output_shape == (None, 14, 14, 128)\n",
        "    model.add(layers.BatchNormalization())\n",
        "    model.add(layers.LeakyReLU())\n",
        "    \n",
        "    model.add(layers.Conv2DTranspose(256, (5, 5), strides=(2, 2), padding='same', use_bias=False))\n",
        "    assert model.output_shape == (None, 28, 28, 256)\n",
        "    \n",
        "    for layer in model.layers:\n",
        "      aA=layer.output_shape\n",
        "      bA=layer.output\n",
        "      #print(aA)\n",
        "      #print(bA)\n",
        "    \n",
        "    return model\n",
        "  \n",
        "noise = tf.random.normal([1, 6272])\n",
        "generator = make_generator_model()\n",
        "generated_model = generator(noise, training=False)\n",
        "\n",
        "\n",
        "generated_model.shape\n"
      ],
      "execution_count": 0,
      "outputs": [
        {
          "output_type": "execute_result",
          "data": {
            "text/plain": [
              "TensorShape([1, 28, 28, 256])"
            ]
          },
          "metadata": {
            "tags": []
          },
          "execution_count": 8
        }
      ]
    },
    {
      "cell_type": "code",
      "metadata": {
        "id": "djuXAi0_9TBI",
        "colab_type": "code",
        "colab": {}
      },
      "source": [
        "def deConcatModel(model):\n",
        "   \n",
        "  deConcatedModelAudio = np.ones([28,28,128])\n",
        "  deConcatedModelImage = np.ones([28,28,128])\n",
        "  split0, split1 = tf.split(model, num_or_size_splits=2, axis=3)\n",
        "  tf.shape(split0)\n",
        "  tf.shape(split1)\n",
        "\n",
        "  deConcatedModelAudio = split0\n",
        "  deConcatedModelImage = split1\n",
        "  return deConcatedModelAudio , deConcatedModelImage"
      ],
      "execution_count": 0,
      "outputs": []
    },
    {
      "cell_type": "code",
      "metadata": {
        "id": "S-QAKlRoCj81",
        "colab_type": "code",
        "colab": {}
      },
      "source": [
        "\n",
        "def deConvolution_Audio():\n",
        "    model = tf.keras.Sequential()\n",
        "    model.add(layers.Conv2D(64, (5, 5), strides=(2, 2), padding='same', input_shape=[28, 28, 128]))\n",
        "    model.add(layers.LeakyReLU())\n",
        "    model.add(layers.Dropout(0.3))\n",
        "    \n",
        "    model.add(layers.Conv2DTranspose(128, (5, 5), strides=(2, 2), padding='same', use_bias=False, activation='tanh'))\n",
        "    assert model.output_shape == (None, 28, 28, 128)\n",
        "    model.add(layers.BatchNormalization())\n",
        "    model.add(layers.LeakyReLU()) \n",
        "\n",
        "    model.add(layers.Conv2DTranspose(32, (5, 5), strides=(2, 2), padding='same', use_bias=False, activation='tanh'))\n",
        "    assert model.output_shape == (None, 56, 56, 32)\n",
        "    model.add(layers.BatchNormalization())\n",
        "    model.add(layers.LeakyReLU())\n",
        "    \n",
        "    model.add(layers.Conv2DTranspose(8, (5, 5), strides=(2, 2), padding='same', use_bias=False, activation='tanh'))\n",
        "    assert model.output_shape == (None, 112, 112, 8)\n",
        "    model.add(layers.BatchNormalization())\n",
        "    model.add(layers.LeakyReLU())    \n",
        "\n",
        "    model.add(layers.Conv2DTranspose(1, (5, 5), strides=(2, 2), padding='same', use_bias=False, activation='tanh'))\n",
        "    assert model.output_shape == (None, 224, 224, 1)\n",
        "\n",
        "    for layer in model.layers:\n",
        "      aA=layer.output_shape\n",
        "      bA=layer.output\n",
        "      #print(aA)\n",
        "      #print(bA)\n",
        "    \n",
        "    return model\n",
        "  \n",
        "ndarray = np.ones([1,28,28,128])\n",
        "ndarray = tf.cast(ndarray, 'float32')\n",
        "deConvolution_Audio = deConvolution_Audio()\n",
        "deConvolution_Audio_Image = deConvolution_Audio(ndarray)\n",
        "\n"
      ],
      "execution_count": 0,
      "outputs": []
    },
    {
      "cell_type": "code",
      "metadata": {
        "id": "reiBsMXyMs9b",
        "colab_type": "code",
        "colab": {}
      },
      "source": [
        "\n",
        "def deConvolution_Image():\n",
        "    model = tf.keras.Sequential()\n",
        "    model.add(layers.Conv2D(64, (5, 5), strides=(2, 2), padding='same', input_shape=[28, 28, 128]))\n",
        "    model.add(layers.LeakyReLU())\n",
        "    model.add(layers.Dropout(0.3))\n",
        "    \n",
        "    model.add(layers.Conv2DTranspose(128, (5, 5), strides=(2, 2), padding='same', use_bias=False, activation='tanh'))\n",
        "    assert model.output_shape == (None, 28, 28, 128)\n",
        "    model.add(layers.BatchNormalization())\n",
        "    model.add(layers.LeakyReLU()) \n",
        "\n",
        "    model.add(layers.Conv2DTranspose(32, (5, 5), strides=(2, 2), padding='same', use_bias=False, activation='tanh'))\n",
        "    assert model.output_shape == (None, 56, 56, 32)\n",
        "    model.add(layers.BatchNormalization())\n",
        "    model.add(layers.LeakyReLU())\n",
        "    \n",
        "    model.add(layers.Conv2DTranspose(8, (5, 5), strides=(2, 2), padding='same', use_bias=False, activation='tanh'))\n",
        "    assert model.output_shape == (None, 112, 112, 8)\n",
        "    model.add(layers.BatchNormalization())\n",
        "    model.add(layers.LeakyReLU())    \n",
        "\n",
        "    model.add(layers.Conv2DTranspose(1, (5, 5), strides=(2, 2), padding='same', use_bias=False, activation='tanh'))\n",
        "    assert model.output_shape == (None, 224, 224, 1)\n",
        "    \n",
        "    for layer in model.layers:\n",
        "      aA=layer.output_shape\n",
        "      bA=layer.output\n",
        "      #print(aA)\n",
        "      #print(bA)\n",
        "    \n",
        "    return model\n",
        "  \n",
        "ndarray = np.ones([1,28,28,128])\n",
        "ndarray = tf.cast(ndarray, 'float32')\n",
        "deConvolution_Image = deConvolution_Image()\n",
        "deConvolution_Image_var = deConvolution_Image(ndarray)\n",
        "\n",
        " "
      ],
      "execution_count": 0,
      "outputs": []
    },
    {
      "cell_type": "markdown",
      "metadata": {
        "id": "skQv-S_17mh0",
        "colab_type": "text"
      },
      "source": [
        "#Discriminator"
      ]
    },
    {
      "cell_type": "code",
      "metadata": {
        "id": "ApFKP76CD8pU",
        "colab_type": "code",
        "outputId": "1c1173a5-4a21-4d35-da02-b315aef825bb",
        "colab": {
          "base_uri": "https://localhost:8080/",
          "height": 35
        }
      },
      "source": [
        "def convolute_Image():\n",
        "  model = tf.keras.Sequential()\n",
        "  model.add(layers.Conv2D(32, (3,3), strides = (1,1), padding = 'same', input_shape= [224,224,1]))\n",
        "  model.add(layers.LeakyReLU())\n",
        "\n",
        "  model.add(layers.MaxPooling2D(2, 2))\n",
        "  model.add(layers.Conv2D(64, (3,3), strides = (1,1), padding = 'same'))\n",
        "  model.add(layers.LeakyReLU())\n",
        "  \n",
        "  model.add(layers.MaxPooling2D(2, 2))\n",
        "  model.add(layers.Conv2D(128, (3,3), strides = (1,1), padding = 'same'))\n",
        "  model.add(layers.LeakyReLU())\n",
        "  model.add(layers.MaxPooling2D(2, 2))\n",
        "  for layer in model.layers:\n",
        "    aA=layer.output_shape\n",
        "    bA=layer.output\n",
        "    #print(aA)\n",
        "    #print(bA)\n",
        "  \n",
        "  return model\n",
        "\n",
        "convolute_Image = convolute_Image()\n",
        "image_decision = convolute_Image(image_dataset)\n",
        "print (image_decision.shape)\n",
        "\n",
        "\n",
        "#image_dataset = np.ones([4,224,224,3])\n",
        "#image_dataset = tf.convert_to_tensor(image_dataset, np.float32)\n",
        "\n",
        "\n",
        "#convolute_image = convolute_Image()\n",
        "#image_decision = convolute_image(image_dataset)\n",
        "\n",
        "\n"
      ],
      "execution_count": 0,
      "outputs": [
        {
          "output_type": "stream",
          "text": [
            "(1, 28, 28, 128)\n"
          ],
          "name": "stdout"
        }
      ]
    },
    {
      "cell_type": "code",
      "metadata": {
        "id": "oseQSLDND3DS",
        "colab_type": "code",
        "outputId": "7e124bce-7a03-41db-92b9-04a5baf535ba",
        "colab": {
          "base_uri": "https://localhost:8080/",
          "height": 35
        }
      },
      "source": [
        "def convolute_Audio():\n",
        "  model = tf.keras.Sequential()\n",
        "  model.add(layers.Conv2D(32, (3,3), strides = (1,1), padding = 'same', input_shape= [224,224,1]))\n",
        "  model.add(layers.LeakyReLU())\n",
        "\n",
        "  model.add(layers.MaxPooling2D(2, 2))\n",
        "  model.add(layers.Conv2D(64, (3,3), strides = (1,1), padding = 'same'))\n",
        "  model.add(layers.LeakyReLU())\n",
        "  \n",
        "  model.add(layers.MaxPooling2D(2, 2))\n",
        "  model.add(layers.Conv2D(128, (3,3), strides = (1,1), padding = 'same'))\n",
        "  model.add(layers.LeakyReLU())\n",
        "  model.add(layers.MaxPooling2D(2, 2))\n",
        "  for layer in model.layers:\n",
        "    aA=layer.output_shape\n",
        "    bA=layer.output\n",
        "    #print(aA)\n",
        "    #print(bA)\n",
        "  \n",
        "  return model\n",
        "\n",
        "\n",
        "#audio_dataset = np.ones([4,224,224,2])\n",
        "#audio_dataset = tf.convert_to_tensor(audio_dataset, np.float32)\n",
        "#audio_dataset = tf.data.Dataset.from_tensor_slices(audio_dataset).shuffle(BUFFER_SIZE).batch(BATCH_SIZE)\n",
        "\n",
        "convolute_Audio = convolute_Audio()\n",
        "audio_decision = convolute_Audio(audio_dataset)\n",
        "print (audio_decision.shape)\n",
        "\n",
        "#convolute_Audio = convolute_Audio()\n",
        "#audio_decision = convolute_Audio(audio_dataset)\n",
        "#print(audio_decision.shape)"
      ],
      "execution_count": 0,
      "outputs": [
        {
          "output_type": "stream",
          "text": [
            "(1, 28, 28, 128)\n"
          ],
          "name": "stdout"
        }
      ]
    },
    {
      "cell_type": "code",
      "metadata": {
        "id": "yrr-KOjjE3l8",
        "colab_type": "code",
        "outputId": "bf868f0b-926c-4e03-8905-3609507efe32",
        "colab": {
          "base_uri": "https://localhost:8080/",
          "height": 35
        }
      },
      "source": [
        "\n",
        "def convolutions_concatenation(audio_conv,image_conv):\n",
        "  concatenation = tf.concat([audio_conv, image_conv], axis=3)\n",
        "  return concatenation\n",
        "\n",
        "convolutions_concatenation = convolutions_concatenation(audio_decision,image_decision)\n",
        "\n",
        "print(convolutions_concatenation.shape)\n"
      ],
      "execution_count": 0,
      "outputs": [
        {
          "output_type": "stream",
          "text": [
            "(1, 28, 28, 256)\n"
          ],
          "name": "stdout"
        }
      ]
    },
    {
      "cell_type": "code",
      "metadata": {
        "id": "eAp8YLdr7mpz",
        "colab_type": "code",
        "outputId": "a42cbda1-7d38-4ed7-f839-7b8056f79f8f",
        "colab": {
          "base_uri": "https://localhost:8080/",
          "height": 374
        }
      },
      "source": [
        "def discriminator_model():\n",
        "    model = tf.keras.Sequential()\n",
        "    model.add(layers.Conv2D(64, (5, 5), strides=(2, 2), padding='same', input_shape=[28, 28, 256]))\n",
        "    model.add(layers.LeakyReLU())\n",
        "    model.add(layers.Dropout(0.3))\n",
        "\n",
        "    model.add(layers.Conv2D(128, (5, 5), strides=(2, 2), padding='same'))\n",
        "    model.add(layers.LeakyReLU())\n",
        "    model.add(layers.Dropout(0.3))\n",
        "    \n",
        "    model.add(layers.Flatten())\n",
        "    for layer in model.layers:\n",
        "      aA=layer.output_shape\n",
        "      bA=layer.output\n",
        "      print(aA)\n",
        "      print(bA)\n",
        "    model.add(layers.Dense(1))\n",
        "\n",
        "    return model\n",
        "  \n",
        "\n",
        "discriminator = discriminator_model()\n",
        "output = discriminator(convolutions_concatenation)\n",
        "print (output)\n",
        "print(output.shape)\n",
        "\n"
      ],
      "execution_count": 0,
      "outputs": [
        {
          "output_type": "error",
          "ename": "NameError",
          "evalue": "ignored",
          "traceback": [
            "\u001b[0;31m---------------------------------------------------------------------------\u001b[0m",
            "\u001b[0;31mNameError\u001b[0m                                 Traceback (most recent call last)",
            "\u001b[0;32m<ipython-input-1-21da7ce2467c>\u001b[0m in \u001b[0;36m<module>\u001b[0;34m()\u001b[0m\n\u001b[1;32m     20\u001b[0m \u001b[0;34m\u001b[0m\u001b[0m\n\u001b[1;32m     21\u001b[0m \u001b[0;34m\u001b[0m\u001b[0m\n\u001b[0;32m---> 22\u001b[0;31m \u001b[0mdiscriminator\u001b[0m \u001b[0;34m=\u001b[0m \u001b[0mdiscriminator_model\u001b[0m\u001b[0;34m(\u001b[0m\u001b[0;34m)\u001b[0m\u001b[0;34m\u001b[0m\u001b[0;34m\u001b[0m\u001b[0m\n\u001b[0m\u001b[1;32m     23\u001b[0m \u001b[0moutput\u001b[0m \u001b[0;34m=\u001b[0m \u001b[0mdiscriminator\u001b[0m\u001b[0;34m(\u001b[0m\u001b[0mconvolutions_concatenation\u001b[0m\u001b[0;34m)\u001b[0m\u001b[0;34m\u001b[0m\u001b[0;34m\u001b[0m\u001b[0m\n\u001b[1;32m     24\u001b[0m \u001b[0mprint\u001b[0m \u001b[0;34m(\u001b[0m\u001b[0moutput\u001b[0m\u001b[0;34m)\u001b[0m\u001b[0;34m\u001b[0m\u001b[0;34m\u001b[0m\u001b[0m\n",
            "\u001b[0;32m<ipython-input-1-21da7ce2467c>\u001b[0m in \u001b[0;36mdiscriminator_model\u001b[0;34m()\u001b[0m\n\u001b[1;32m      1\u001b[0m \u001b[0;32mdef\u001b[0m \u001b[0mdiscriminator_model\u001b[0m\u001b[0;34m(\u001b[0m\u001b[0;34m)\u001b[0m\u001b[0;34m:\u001b[0m\u001b[0;34m\u001b[0m\u001b[0;34m\u001b[0m\u001b[0m\n\u001b[0;32m----> 2\u001b[0;31m     \u001b[0mmodel\u001b[0m \u001b[0;34m=\u001b[0m \u001b[0mtf\u001b[0m\u001b[0;34m.\u001b[0m\u001b[0mkeras\u001b[0m\u001b[0;34m.\u001b[0m\u001b[0mSequential\u001b[0m\u001b[0;34m(\u001b[0m\u001b[0;34m)\u001b[0m\u001b[0;34m\u001b[0m\u001b[0;34m\u001b[0m\u001b[0m\n\u001b[0m\u001b[1;32m      3\u001b[0m     \u001b[0mmodel\u001b[0m\u001b[0;34m.\u001b[0m\u001b[0madd\u001b[0m\u001b[0;34m(\u001b[0m\u001b[0mlayers\u001b[0m\u001b[0;34m.\u001b[0m\u001b[0mConv2D\u001b[0m\u001b[0;34m(\u001b[0m\u001b[0;36m64\u001b[0m\u001b[0;34m,\u001b[0m \u001b[0;34m(\u001b[0m\u001b[0;36m5\u001b[0m\u001b[0;34m,\u001b[0m \u001b[0;36m5\u001b[0m\u001b[0;34m)\u001b[0m\u001b[0;34m,\u001b[0m \u001b[0mstrides\u001b[0m\u001b[0;34m=\u001b[0m\u001b[0;34m(\u001b[0m\u001b[0;36m2\u001b[0m\u001b[0;34m,\u001b[0m \u001b[0;36m2\u001b[0m\u001b[0;34m)\u001b[0m\u001b[0;34m,\u001b[0m \u001b[0mpadding\u001b[0m\u001b[0;34m=\u001b[0m\u001b[0;34m'same'\u001b[0m\u001b[0;34m,\u001b[0m \u001b[0minput_shape\u001b[0m\u001b[0;34m=\u001b[0m\u001b[0;34m[\u001b[0m\u001b[0;36m28\u001b[0m\u001b[0;34m,\u001b[0m \u001b[0;36m28\u001b[0m\u001b[0;34m,\u001b[0m \u001b[0;36m256\u001b[0m\u001b[0;34m]\u001b[0m\u001b[0;34m)\u001b[0m\u001b[0;34m)\u001b[0m\u001b[0;34m\u001b[0m\u001b[0;34m\u001b[0m\u001b[0m\n\u001b[1;32m      4\u001b[0m     \u001b[0mmodel\u001b[0m\u001b[0;34m.\u001b[0m\u001b[0madd\u001b[0m\u001b[0;34m(\u001b[0m\u001b[0mlayers\u001b[0m\u001b[0;34m.\u001b[0m\u001b[0mLeakyReLU\u001b[0m\u001b[0;34m(\u001b[0m\u001b[0;34m)\u001b[0m\u001b[0;34m)\u001b[0m\u001b[0;34m\u001b[0m\u001b[0;34m\u001b[0m\u001b[0m\n\u001b[1;32m      5\u001b[0m     \u001b[0mmodel\u001b[0m\u001b[0;34m.\u001b[0m\u001b[0madd\u001b[0m\u001b[0;34m(\u001b[0m\u001b[0mlayers\u001b[0m\u001b[0;34m.\u001b[0m\u001b[0mDropout\u001b[0m\u001b[0;34m(\u001b[0m\u001b[0;36m0.3\u001b[0m\u001b[0;34m)\u001b[0m\u001b[0;34m)\u001b[0m\u001b[0;34m\u001b[0m\u001b[0;34m\u001b[0m\u001b[0m\n",
            "\u001b[0;31mNameError\u001b[0m: name 'tf' is not defined"
          ]
        }
      ]
    },
    {
      "cell_type": "markdown",
      "metadata": {
        "id": "WTQ5znpLOshN",
        "colab_type": "text"
      },
      "source": [
        "#Train Dataset\n"
      ]
    },
    {
      "cell_type": "code",
      "metadata": {
        "id": "Njh_0ntwOsAD",
        "colab_type": "code",
        "colab": {}
      },
      "source": [
        "noise_dim = 6272\n",
        "num_examples_to_generate = 1\n",
        "BUFFER_SIZE = 60\n",
        "BATCH_SIZE = 256\n",
        "#decision = Final_discriminator_model(generated_image)\n",
        "#print (decision)\n",
        "\n",
        "# This method returns a helper function to compute cross entropy loss\n",
        "cross_entropy = tf.keras.losses.BinaryCrossentropy(from_logits=True)\n",
        "\n",
        "\n",
        "\n",
        "def discriminator_loss(real_output, fake_output):\n",
        "    real_loss = cross_entropy(tf.ones_like(real_output), real_output)\n",
        "    fake_loss = cross_entropy(tf.zeros_like(fake_output), fake_output)\n",
        "    total_loss = real_loss + fake_loss\n",
        "    return total_loss\n",
        "  \n",
        "def generator_loss(fake_output):\n",
        "    return cross_entropy(tf.ones_like(fake_output), fake_output)\n",
        "  \n",
        "generator_optimizer = tf.keras.optimizers.Adam(1e-4)\n",
        "discriminator_optimizer = tf.keras.optimizers.Adam(1e-4)\n",
        "\n",
        "\n",
        "checkpoint_dir = './training_checkpoints'\n",
        "checkpoint_prefix = os.path.join(checkpoint_dir, \"ckpt\")\n",
        "checkpoint = tf.train.Checkpoint(generator_optimizer=generator_optimizer,\n",
        "                                 discriminator_optimizer=discriminator_optimizer,\n",
        "                                 generator=generator,\n",
        "                                 discriminator=discriminator)\n",
        "\n",
        "\n",
        "\n",
        "# We will reuse this seed overtime (so it's easier)\n",
        "# to visualize progress in the animated GIF)\n",
        "seed = tf.random.normal([num_examples_to_generate, noise_dim])\n",
        "\n",
        "# Notice the use of `tf.function`\n",
        "# This annotation causes the function to be \"compiled\".\n",
        "\n",
        "@tf.function\n",
        "def train_step(train_concat_dataset,audio_dataset,image_dataset):\n",
        "  noise = tf.random.normal([BATCH_SIZE, noise_dim])\n",
        "  #print(audio_dataset)\n",
        "  #print(image_dataset)\n",
        "  with tf.GradientTape() as gen_tape, tf.GradientTape() as disc_tape:\n",
        "    \n",
        "    # Generator\n",
        "    generated_data = generator(noise, training=True)\n",
        "    audio_concat = deConcatModel(generated_data)\n",
        "\n",
        "    #audio_deconv = deConvolution_Audio(audio_concat)\n",
        "    #image_deconv = deConvolution_Image(image_concat)\n",
        "    \n",
        "    #convolute_Audio(audio_deconv)\n",
        "    #convolute_Image(image_deconv)\n",
        "    \n",
        "    #conv_generated_data = convolutions_concatenation(convolute_Audio,convolute_Image)\n",
        "    #conv_generated_data = tf.concat([convolute_Audio, convolute_Image], axis=3)\n",
        "  \n",
        "    #print('audio_deconv',audio_deconv)\n",
        "    #print('image_deconv',image_deconv)\n",
        "  \n",
        "    # Discriminator\n",
        "    discriminator_data = train_concat_dataset\n",
        "  \n",
        "  \n",
        "    # Give to \n",
        "    # 28*28*265\n",
        "    real_output = discriminator(discriminator_data, training=True)\n",
        "    \n",
        "    #\n",
        "    fake_output = discriminator(generated_data, training=True)\n",
        "\n",
        "    gen_loss = generator_loss(fake_output)\n",
        "    disc_loss = discriminator_loss(real_output, fake_output)\n",
        "\n",
        "    print('disc_loss',disc_loss)\n",
        "\n",
        "    \n",
        "  gradients_of_generator = gen_tape.gradient(gen_loss, generator.trainable_variables)\n",
        "  gradients_of_discriminator = disc_tape.gradient(disc_loss, discriminator.trainable_variables)\n",
        "\n",
        "  generator_optimizer.apply_gradients(zip(gradients_of_generator, generator.trainable_variables))\n",
        "  discriminator_optimizer.apply_gradients(zip(gradients_of_discriminator, discriminator.trainable_variables))\n",
        "  \n",
        "\n",
        "    \n",
        "def train(audio_dataset, image_dataset, epochs):\n",
        "    \n",
        "    \n",
        "    \n",
        "  for epoch in range(epochs):\n",
        "    start = time.time()\n",
        "    \n",
        "    for image_batch in image_dataset:\n",
        "      #print('train',audio_dataset.shape)\n",
        "      #print('train',image_dataset.shape)     \n",
        "      \n",
        "      audio_conv = convolute_Image(audio_dataset)  \n",
        "      #audio_conv = convolute_Audio(audio_dataset)  \n",
        "      \n",
        "      image_conv = convolute_Image(image_dataset)  \n",
        "      \n",
        "      \n",
        "      concatenation = tf.concat([audio_conv, image_conv], axis=3)\n",
        "      \n",
        "      #print(concatenation.shape)\n",
        "      \n",
        "      #train_concat_dataset = convolutions_concatenation(audio_conv,image_conv)\n",
        "      \n",
        "      train_step(concatenation,audio_dataset, image_dataset)\n",
        "\n",
        "      \n",
        "    # Produce images for the GIF as we go\n",
        "    display.clear_output(wait=True)\n",
        "    generate_and_save_images(generator, epoch + 1, seed)\n",
        "\n",
        "    # Save the model every 15 epochs\n",
        "    if (epoch + 1) % 500 == 0:\n",
        "      checkpoint.save(file_prefix = checkpoint_prefix)\n",
        "\n",
        "    print ('Time for epoch {} is {} sec'.format(epoch + 1, time.time()-start))\n",
        "\n",
        "  # Generate after the final epoch\n",
        "  display.clear_output(wait=True)\n",
        "  generate_and_save_images(generator , epochs, seed)\n",
        "  \n",
        "\n",
        "\n",
        "\n"
      ],
      "execution_count": 0,
      "outputs": []
    },
    {
      "cell_type": "code",
      "metadata": {
        "id": "fVCsuP7wplt-",
        "colab_type": "code",
        "colab": {}
      },
      "source": [
        "noise_dim = 6272\n",
        "num_examples_to_generate = 1\n",
        "BUFFER_SIZE = 60\n",
        "BATCH_SIZE = 256\n",
        "#decision = Final_discriminator_model(generated_image)\n",
        "#print (decision)\n",
        "\n",
        "# This method returns a helper function to compute cross entropy loss\n",
        "cross_entropy = tf.keras.losses.BinaryCrossentropy(from_logits=True)\n",
        "\n",
        "\n",
        "\n",
        "def discriminator_loss(real_output, fake_output):\n",
        "    real_loss = cross_entropy(tf.ones_like(real_output), real_output)\n",
        "    fake_loss = cross_entropy(tf.zeros_like(fake_output), fake_output)\n",
        "    total_loss = real_loss + fake_loss\n",
        "    return total_loss\n",
        "  \n",
        "def generator_loss(fake_output):\n",
        "    return cross_entropy(tf.ones_like(fake_output), fake_output)\n",
        "  \n",
        "generator_optimizer = tf.keras.optimizers.Adam(1e-4)\n",
        "discriminator_optimizer = tf.keras.optimizers.Adam(1e-4)\n",
        "\n",
        "\n",
        "checkpoint_dir = './training_checkpoints'\n",
        "checkpoint_prefix = os.path.join(checkpoint_dir, \"ckpt\")\n",
        "checkpoint = tf.train.Checkpoint(generator_optimizer=generator_optimizer,\n",
        "                                 discriminator_optimizer=discriminator_optimizer,\n",
        "                                 generator=generator,\n",
        "                                 discriminator=discriminator)\n",
        "\n",
        "\n",
        "\n",
        "# We will reuse this seed overtime (so it's easier)\n",
        "# to visualize progress in the animated GIF)\n",
        "seed = tf.random.normal([num_examples_to_generate, noise_dim])\n",
        "\n",
        "# Notice the use of `tf.function`\n",
        "# This annotation causes the function to be \"compiled\".\n",
        "\n",
        "@tf.function\n",
        "def train_step(train_concat_dataset,audio_dataset,image_dataset):\n",
        "  noise = tf.random.normal([BATCH_SIZE, noise_dim])\n",
        "  #print(audio_dataset)\n",
        "  #print(image_dataset)\n",
        "  with tf.GradientTape() as gen_tape, tf.GradientTape() as disc_tape:\n",
        "    \n",
        "    # Generator\n",
        "    generated_data = generator(noise, training=True)\n",
        "    audio_concat = deConcatModel(generated_data)\n",
        "\n",
        "    #audio_deconv = deConvolution_Audio(audio_concat)\n",
        "    #image_deconv = deConvolution_Image(image_concat)\n",
        "    \n",
        "    #convolute_Audio(audio_deconv)\n",
        "    #convolute_Image(image_deconv)\n",
        "    \n",
        "    #conv_generated_data = convolutions_concatenation(convolute_Audio,convolute_Image)\n",
        "    #conv_generated_data = tf.concat([convolute_Audio, convolute_Image], axis=3)\n",
        "  \n",
        "    #print('audio_deconv',audio_deconv)\n",
        "    #print('image_deconv',image_deconv)\n",
        "  \n",
        "    # Discriminator\n",
        "    discriminator_data = train_concat_dataset\n",
        "  \n",
        "  \n",
        "    # Give to \n",
        "    # 28*28*265\n",
        "    real_output = discriminator(discriminator_data, training=True)\n",
        "    \n",
        "    #\n",
        "    fake_output = discriminator(generated_data, training=True)\n",
        "\n",
        "    gen_loss = generator_loss(fake_output)\n",
        "    disc_loss = discriminator_loss(real_output, fake_output)\n",
        "\n",
        "    print('disc_loss',disc_loss)\n",
        "\n",
        "    \n",
        "  gradients_of_generator = gen_tape.gradient(gen_loss, generator.trainable_variables)\n",
        "  gradients_of_discriminator = disc_tape.gradient(disc_loss, discriminator.trainable_variables)\n",
        "\n",
        "  generator_optimizer.apply_gradients(zip(gradients_of_generator, generator.trainable_variables))\n",
        "  discriminator_optimizer.apply_gradients(zip(gradients_of_discriminator, discriminator.trainable_variables))\n",
        "\n",
        "\n",
        "def train_audio(audio_dataset, image_dataset, epochs):\n",
        "    \n",
        "    \n",
        "    \n",
        "  for epoch in range(epochs):\n",
        "    start = time.time()\n",
        "    \n",
        "    for image_batch in image_dataset:\n",
        "      #print('train',audio_dataset.shape)\n",
        "      #print('train',image_dataset.shape)     \n",
        "      \n",
        "      audio_conv = convolute_Image(audio_dataset)  \n",
        "      #audio_conv = convolute_Audio(audio_dataset)  \n",
        "      \n",
        "      image_conv = convolute_Image(image_dataset)  \n",
        "      \n",
        "      \n",
        "      concatenation = tf.concat([audio_conv, image_conv], axis=3)\n",
        "      \n",
        "      #print(concatenation.shape)\n",
        "      \n",
        "      #train_concat_dataset = convolutions_concatenation(audio_conv,image_conv)\n",
        "      \n",
        "      train_step(concatenation,audio_dataset, image_dataset)\n",
        "\n",
        "      \n",
        "    # Produce images for the GIF as we go\n",
        "    display.clear_output(wait=True)\n",
        "    generate_and_save_images(generator, epoch + 1, seed)\n",
        "\n",
        "    # Save the model every 15 epochs\n",
        "    if (epoch + 1) % 500 == 0:\n",
        "      checkpoint.save(file_prefix = checkpoint_prefix)\n",
        "\n",
        "    print ('Time for epoch {} is {} sec'.format(epoch + 1, time.time()-start))\n",
        "\n",
        "  # Generate after the final epoch\n",
        "  display.clear_output(wait=True)\n",
        "  generate_and_save_images(generator , epochs, seed)"
      ],
      "execution_count": 0,
      "outputs": []
    },
    {
      "cell_type": "code",
      "metadata": {
        "id": "_wvvLjsmO_Cp",
        "colab_type": "code",
        "colab": {}
      },
      "source": [
        "def generate_and_save_images(model, epoch, test_input):\n",
        "  \n",
        "\n",
        "  predictions = model(test_input, training=False)\n",
        "\n",
        "  \n",
        "  audio_deconcat, image_deconcat = deConcatModel(predictions)\n",
        "  audio_deconv = deConvolution_Audio(audio_deconcat)\n",
        "  image_deconv = deConvolution_Image(image_deconcat)\n",
        "\n",
        "  \n",
        "  # Notice `training` is set to False.\n",
        "  # This is so all layers run in inference mode (batchnorm).\n",
        "  predictions = model(test_input, training=False)\n",
        "\n",
        "\n",
        "  \n",
        "  \n",
        "  \n",
        "  #pufferImg = np.ndarray((1,224,224,1))\n",
        "  #from Black to RGB noise\n",
        "  #pufferImg = image_deconv[0,:,:,:] \n",
        "  #pufferImg = image_deconv[0,:,:,0]\n",
        "\n",
        "  #print(pufferImg[0,0,0])\n",
        "\n",
        "  #pufferPhase = np.ndarray((224,224))\n",
        "  #pufferPhase = audio_deconv[0,:,:,0] #* 127.5 + 127.5\n",
        "  \n",
        "  pufferLog = np.ndarray((1,224,224,1))\n",
        "  pufferLog = audio_deconv[0,:,:,0] #* 127.5 + 127.5\n",
        "  print(pufferLog.shape) \n",
        "  \n",
        "  plot_size = 4\n",
        "  \n",
        "  \n",
        "  # IMAGE    \n",
        "  plt.figure(figsize=(plot_size,plot_size))\n",
        "  plt.title('gray IMG')\n",
        "  plt.imshow((pufferLog))\n",
        "  plt.axis('off')\n",
        "  #plt.savefig('./image_output/image_at_epoch_{:04d}.png'.format(epoch))\n",
        "    \n",
        "    \n",
        "  # AUDIO\n",
        "  ## PHASE\n",
        "  #plt.figure(figsize=(plot_size,plot_size))\n",
        "  #plt.title('PHASE-IMAGE')  \n",
        "  #plt.imshow(pufferPhase, cmap='gray')\n",
        "  #plt.axis('off')\n",
        "  #plt.savefig('./audio_output/phase_at_epoch_{:04d}.png'.format(epoch))\n",
        "\n",
        "  ## LOG_MAGNITUDE\n",
        "  #plt.figure(figsize=(plot_size,plot_size))\n",
        "  #plt.title('LOG-IMAGE')\n",
        "  #plt.imshow(pufferLog, cmap='gray')\n",
        "  #plt.axis('off')\n",
        "  #plt.savefig('./audio_output/log_at_epoch_{:04d}.png'.format(epoch))\n",
        "  \n",
        "  \n",
        "  plt.show()\n",
        "\n",
        "\n",
        "  "
      ],
      "execution_count": 0,
      "outputs": []
    },
    {
      "cell_type": "code",
      "metadata": {
        "id": "LCLMo-wcQJpn",
        "colab_type": "code",
        "colab": {}
      },
      "source": [
        "EPOCHS = 1000\n",
        "# We changed the two input from audio and image / to two image inputs because we hope we can generate some images but we think it still doesnt work "
      ],
      "execution_count": 0,
      "outputs": []
    },
    {
      "cell_type": "code",
      "metadata": {
        "id": "DE_dAsdZQI2m",
        "colab_type": "code",
        "outputId": "5a15b482-2384-45d2-c402-443254162081",
        "colab": {
          "base_uri": "https://localhost:8080/"
        }
      },
      "source": [
        "%%time\n",
        "#train(audio_dataset, image_dataset, EPOCHS)\n",
        "train_audio(audio_dataset, audio_dataset, EPOCHS)"
      ],
      "execution_count": 0,
      "outputs": [
        {
          "output_type": "stream",
          "text": [
            "(224, 224)\n"
          ],
          "name": "stdout"
        },
        {
          "output_type": "display_data",
          "data": {
            "image/png": "[encoded data removed]",
            "text/plain": [
              "<Figure size 288x288 with 1 Axes>"
            ]
          },
          "metadata": {
            "tags": []
          }
        },
        {
          "output_type": "stream",
          "text": [
            "CPU times: user 3min 32s, sys: 1min 26s, total: 4min 59s\n",
            "Wall time: 6min 21s\n"
          ],
          "name": "stdout"
        }
      ]
    },
    {
      "cell_type": "code",
      "metadata": {
        "id": "bcf4K9EzltHo",
        "colab_type": "code",
        "outputId": "8fafad3b-6696-4aa5-c692-2779616a9fba",
        "colab": {
          "base_uri": "https://localhost:8080/",
          "height": 35
        }
      },
      "source": [
        "checkpoint.restore(tf.train.latest_checkpoint(checkpoint_dir))"
      ],
      "execution_count": 0,
      "outputs": [
        {
          "output_type": "execute_result",
          "data": {
            "text/plain": [
              "<tensorflow.python.training.tracking.util.CheckpointLoadStatus at 0x7fe1720a0b38>"
            ]
          },
          "metadata": {
            "tags": []
          },
          "execution_count": 20
        }
      ]
    },
    {
      "cell_type": "code",
      "metadata": {
        "id": "2Mzsy7U6lxVI",
        "colab_type": "code",
        "colab": {}
      },
      "source": [
        "anim_file = 'AVGAN.gif'\n",
        "\n",
        "with imageio.get_writer(anim_file, mode='I') as writer:\n",
        "  #filenames = glob.glob('image*.png')\n",
        "  filenames = glob.glob('./image_output/image*.png')\n",
        "  #filenames = glob.glob('./audio_output/log*.png')\n",
        "  #filenames = glob.glob('./audio_output/phase*.png')\n",
        "  \n",
        "  filenames = sorted(filenames)\n",
        "  last = -1\n",
        "  for i,filename in enumerate(filenames):\n",
        "    frame = 2*(i**0.5)\n",
        "    if round(frame) > round(last):\n",
        "      last = frame\n",
        "    else:\n",
        "      continue\n",
        "    image = imageio.imread(filename)\n",
        "    writer.append_data(image)\n",
        "  image = imageio.imread(filename)\n",
        "  writer.append_data(image)\n",
        "\n",
        "import IPython\n",
        "if IPython.version_info > (6,2,0,''):\n",
        "  display.Image(filename=anim_file)"
      ],
      "execution_count": 0,
      "outputs": []
    },
    {
      "cell_type": "code",
      "metadata": {
        "id": "n82uxfIilzXy",
        "colab_type": "code",
        "colab": {}
      },
      "source": [
        "try:\n",
        "  from google.colab import files\n",
        "except ImportError:\n",
        "  pass\n",
        "else:\n",
        "  files.download(anim_file)"
      ],
      "execution_count": 0,
      "outputs": []
    }
  ]
}